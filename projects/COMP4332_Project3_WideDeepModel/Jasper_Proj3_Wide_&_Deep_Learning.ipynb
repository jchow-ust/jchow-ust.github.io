{
  "cells": [
    {
      "cell_type": "code",
      "execution_count": 1,
      "metadata": {
        "id": "oKSrTgMwr7ye"
      },
      "outputs": [],
      "source": [
        "from collections import Counter\n",
        "from itertools import combinations\n",
        "import random\n",
        "import numpy as np\n",
        "import pandas as pd\n",
        "import tensorflow\n",
        "from tensorflow.keras.layers import Concatenate, Dense, Dot, Dropout, Embedding, Input, Reshape\n",
        "from tensorflow.keras.models import Model\n",
        "from tensorflow.keras.callbacks import Callback, ModelCheckpoint\n",
        "\n",
        "from sklearn.metrics import mean_squared_error\n",
        "from sklearn.preprocessing import StandardScaler\n",
        "\n",
        "# Setting random seeds to replicate results easily\n",
        "random.seed(0)\n",
        "np.random.seed(0)\n",
        "tensorflow.random.set_seed(0)"
      ]
    },
    {
      "cell_type": "markdown",
      "metadata": {
        "id": "6jXkgK9Ir7yl"
      },
      "source": [
        "# Root Mean Squared Error (RMSE)\n",
        "In this tutorial, RMSE is used to evaluate the performance of a model. A model that reports lower RMSE indicates that it is a better model and vice versa."
      ]
    },
    {
      "cell_type": "code",
      "execution_count": 2,
      "metadata": {
        "id": "o-n4Q2iKr7yo"
      },
      "outputs": [],
      "source": [
        "def rmse(pred, actual):\n",
        "    '''\n",
        "    params:\n",
        "        pred <np.array>: an array containing all predicted ratings\n",
        "        actual <np.array>: an array containing all ground truth ratings\n",
        "\n",
        "    return:\n",
        "        a scalar whose value is the rmse\n",
        "    '''\n",
        "    # Ignore ratings with value zero.\n",
        "    pred = pred[actual.nonzero()].flatten()\n",
        "    actual = actual[actual.nonzero()].flatten()\n",
        "    return np.sqrt(mean_squared_error(pred, actual))"
      ]
    },
    {
      "cell_type": "markdown",
      "metadata": {
        "id": "cy149fyMr7yp"
      },
      "source": [
        "# Wide and Deep Learning (WDL) Model Implementation\n",
        "The Wide and Deep Learning Model can be divided into two parts, the \"wide\" part and the \"deep\" part.\n",
        "\n",
        "**The wide component** is a generalized linear model that takes in the raw input features and the cross-product transformation of categorical features, which enables it to **learn the co-occurrence patterns of items or features**.\n",
        "\n",
        "**The deep component** is a Feed-forward Neural Network (FNN) which takes in both continuous and categorical features as input. Specifically, the normalized values of continuous features are concatenated with the low-dimensional dense embedding vectors converted from categorical features. This concatenated vector is then fed into the FNN during each foward pass. This mechanism tends to **increase the diversity of recommendations**."
      ]
    },
    {
      "cell_type": "code",
      "execution_count": 3,
      "metadata": {
        "id": "TE0K8vDzr7yr"
      },
      "outputs": [],
      "source": [
        "def build_wdl_model(len_continuous, deep_vocab_lens, len_wide, embed_size, dropout_rate, deep_layers):  # added dropout_rate and deep_layers parameters by HCJ\n",
        "    '''\n",
        "    params:\n",
        "        len_continuous: number of continuous features\n",
        "        deep_vocab_lens: an array of integers where deep_vocab_lens[i] represents the number of unique values of (i+1)-th deep categorical feature\n",
        "        len_wide: number of wide features\n",
        "        embed_size: dimension of the embedding vectors of deep categorical features\n",
        "\n",
        "    return:\n",
        "        a keras Model object for the constructed wdl model \n",
        "    '''\n",
        "    # A list containing all input layers\n",
        "    input_list = []\n",
        "    \n",
        "    # Input layer for continuous features\n",
        "    continuous_input = Input(shape=(len_continuous,), dtype='float32', name='continuous_input')\n",
        "    input_list.append(continuous_input)\n",
        "\n",
        "    # Get embeddings for all deep categorical features\n",
        "    emb_list = []\n",
        "    for vocab_size in deep_vocab_lens:\n",
        "        _input = Input(shape=(1,), dtype='int32')\n",
        "        input_list.append(_input)\n",
        "        _emb = Embedding(output_dim=embed_size, input_dim=vocab_size, input_length=1)(_input)\n",
        "        _emb = Reshape((embed_size,))(_emb)\n",
        "        emb_list.append(_emb)\n",
        "\n",
        "    # Create input layer for deep component by concatenating the embeddings and continuous features' input layer\n",
        "    deep_input = Concatenate()(emb_list + [continuous_input])\n",
        "\n",
        "    # Construct deep component - modified by HCJ\n",
        "    for i in range(len(deep_layers)):\n",
        "        dense_i = Dense(deep_layers[i], activation='relu')(deep_input)\n",
        "        dense_i_dp = Dropout(dropout_rate)(dense_i)\n",
        "        deep_input = dense_i_dp\n",
        "     \n",
        "    #dense_1 = Dense(256, activation='relu')(deep_input)\n",
        "    #dense_1_dp = Dropout(0.3)(dense_1)\n",
        "    #dense_2 = Dense(128, activation='relu')(dense_1_dp)\n",
        "    #dense_2_dp = Dropout(0.3)(dense_2)\n",
        "    #dense_3 = Dense(64, activation='relu')(dense_2_dp)\n",
        "    #dense_3_dp = Dropout(0.3)(dense_3)\n",
        "\n",
        "    # Create input layer for wide component\n",
        "    wide_input = Input(shape=(len_wide,), dtype='float32')\n",
        "    input_list.append(wide_input)\n",
        "\n",
        "    # Concatenate the outputs of deep and wide components and feed the concatenated vector into the finall fully connected layer\n",
        "    #fc_input = Concatenate()([dense_3_dp, wide_input])  # OLD\n",
        "    fc_input = Concatenate()([deep_input, wide_input])  # NEW - by HCJ\n",
        "    model_output = Dense(1)(fc_input)\n",
        "\n",
        "    model = Model(inputs=input_list, outputs=model_output)\n",
        "    return model"
      ]
    },
    {
      "cell_type": "markdown",
      "metadata": {
        "id": "jpdjUeVlr7ys"
      },
      "source": [
        "# Data Preprocessing\n",
        "Below are utility functions that helps us retrieve the numerical values of different features from the dataset, and generate combinations of features to be used by the WDL model."
      ]
    },
    {
      "cell_type": "markdown",
      "metadata": {
        "id": "qq5HVVkkr7yt"
      },
      "source": [
        "### Retrieving Continuous Features"
      ]
    },
    {
      "cell_type": "code",
      "execution_count": 4,
      "metadata": {
        "id": "v13Kj20fr7yu"
      },
      "outputs": [],
      "source": [
        "def get_continuous_features(df, continuous_columns):\n",
        "    '''\n",
        "    params:\n",
        "        df: input dataframe\n",
        "        continuous_columns: column names of continuous features\n",
        "\n",
        "    return: \n",
        "        a numpy array where each row contains the values of continuous features in the corresponding row of the input dataframe\n",
        "    '''\n",
        "    continuous_features = df[continuous_columns].values\n",
        "    return continuous_features"
      ]
    },
    {
      "cell_type": "markdown",
      "metadata": {
        "id": "rnfcL05lr7yv"
      },
      "source": [
        "### Categorical Features Cross Product Transformation\n",
        "This function is used to generate a variety of feature combinations that occurred frequently in the dataset.\n",
        "\n",
        "For example, the following items occurred frequently in the dataset:\n",
        "\n",
        "|Item Name|Occurrence|\n",
        "|---|---|\n",
        "|A|4|\n",
        "|B|3|\n",
        "|C|2|\n",
        "|D|1|\n",
        "\n",
        "If we set `topk=3`, it means that we will only consider the top 3 items with the highest occurrence to generate combinations.\n",
        "\n",
        "If we set `comb_p=2`, it means that we will generate combinations with 2 items in each generated combinations.\n",
        "\n",
        "In this case, the following combinations will be generated: `[('A', 'B'), ('A', 'C'), ('B', 'C')]`\n",
        "\n",
        "Test code: `get_top_k_p_combinations(pd.DataFrame({'item_categories': ['A, B, C, D', 'A, B, C', 'A, B', 'A']}), comb_p=2, topk=3, output_freq=False)`"
      ]
    },
    {
      "cell_type": "code",
      "execution_count": 5,
      "metadata": {
        "id": "4fR60DWLr7yw"
      },
      "outputs": [],
      "source": [
        "def get_top_k_p_combinations(df, comb_p, topk, output_freq=False):\n",
        "    '''\n",
        "    params:\n",
        "        df: input dataframe\n",
        "        comb_p: number of elements in each combination (e.g., there are two elements in the combination {fried chicken, chicken and waffle}, and three elements in the combination {fried chicken, chicken and waffle, chicken fried rice})\n",
        "        topk: number of most frequent combinations to retrieve\n",
        "        output_freq: whether to return the frequencies of retrieved combinations\n",
        "\n",
        "    return:\n",
        "        1. output_freq = True: a list X where each element is a tuple containing a combination tuple and corresponding frequency, and the elements are stored in the descending order of their frequencies\n",
        "        2. output_freq = False: a list X where each element is a tuple containing a combination tuple, and the elements are stored in the descending order of their frequencies\n",
        "    '''\n",
        "    def get_category_combinations(categories_str, comb_p=2):\n",
        "        categories = categories_str.split(', ')\n",
        "        return list(combinations(categories, comb_p))\n",
        "    all_categories_p_combos = df[\"item_categories\"].apply(lambda x: get_category_combinations(x, comb_p)).values.tolist()\n",
        "    all_categories_p_combos = [tuple(t) for item in all_categories_p_combos for t in item]\n",
        "    tmp = dict(Counter(all_categories_p_combos))\n",
        "    sorted_categories_combinations = list(sorted(tmp.items(), key=lambda x: x[1], reverse=True))\n",
        "    if output_freq:\n",
        "        return sorted_categories_combinations[:topk]\n",
        "    else:\n",
        "        return [t[0] for t in sorted_categories_combinations[:topk]]"
      ]
    },
    {
      "cell_type": "markdown",
      "metadata": {
        "id": "xRTBzQKZr7yx"
      },
      "source": [
        "### Building Wide Features"
      ]
    },
    {
      "cell_type": "code",
      "execution_count": 6,
      "metadata": {
        "id": "zkvmE2Nmr7yy"
      },
      "outputs": [],
      "source": [
        "def get_wide_features(df, selected_categories_to_idx, top_combinations):\n",
        "    '''\n",
        "    params:\n",
        "        df: input dataframe\n",
        "        selected_categories_to_idx: a dictionary mapping item categories to corrresponding integral indices\n",
        "        top_combinations: a list containing retrieved mostly frequent combinantions of item categories\n",
        "\n",
        "    return:\n",
        "        a numpy array where each row contains the categorical features' binary encodings and cross product transformations for the corresponding row of the input dataframe\n",
        "    '''\n",
        "    def categories_to_binary_output(categories):\n",
        "        binary_output = [0 for _ in range(len(selected_categories_to_idx))]\n",
        "        for category in categories.split(', '):\n",
        "            if category in selected_categories_to_idx:\n",
        "                binary_output[selected_categories_to_idx[category]] = 1\n",
        "            else:\n",
        "                binary_output[0] = 1\n",
        "        return binary_output\n",
        "    def categories_cross_transformation(categories):\n",
        "        current_category_set = set(categories.split(', '))\n",
        "        corss_transform_output = [0 for _ in range(len(top_combinations))]\n",
        "        for k, comb_k in enumerate(top_combinations):\n",
        "            if len(current_category_set & comb_k) == len(comb_k):\n",
        "                corss_transform_output[k] = 1\n",
        "            else:\n",
        "                corss_transform_output[k] = 0\n",
        "        return corss_transform_output\n",
        "\n",
        "    category_binary_features = np.array(df.item_categories.apply(lambda x: categories_to_binary_output(x)).values.tolist())\n",
        "    category_cross_transform_features = np.array(df.item_categories.apply(lambda x: categories_cross_transformation(x)).values.tolist())\n",
        "    return np.concatenate((category_binary_features, category_cross_transform_features), axis=1)"
      ]
    },
    {
      "cell_type": "markdown",
      "metadata": {
        "id": "WsjUK3u7r7yz"
      },
      "source": [
        "# Ratings Prediction"
      ]
    },
    {
      "cell_type": "markdown",
      "metadata": {
        "id": "QdofIwUZr7y0"
      },
      "source": [
        "### Loading train, validation and test rating tables"
      ]
    },
    {
      "cell_type": "code",
      "source": [
        "# TODO remove if not running on Google Colab\n",
        "from google.colab import drive\n",
        "drive.mount('/content/drive')\n",
        "\n",
        "# cd into appropriate directory on Google Drive\n",
        "!rm -f data\n",
        "%cd /content/drive/My Drive/4-2/COMP4332/Project3/data\n",
        "\n",
        "# end TODO remove\n",
        "\n",
        "# S1: Dropout=0, Dense1 layer had output of dimension 512 instead of 256.\n",
        "\n",
        "tr_df = pd.read_csv(\"./train.csv\")\n",
        "val_df = pd.read_csv(\"./valid.csv\")\n",
        "te_df = pd.read_csv(\"./test.csv\")\n",
        "\n",
        "tr_ratings = tr_df['stars'].values\n",
        "val_ratings = val_df['stars'].values"
      ],
      "metadata": {
        "id": "KoIDx6xNsKLZ",
        "colab": {
          "base_uri": "https://localhost:8080/"
        },
        "outputId": "6fdbd63e-edb0-41af-8046-b3ef283ca5bf"
      },
      "execution_count": 7,
      "outputs": [
        {
          "output_type": "stream",
          "name": "stdout",
          "text": [
            "Drive already mounted at /content/drive; to attempt to forcibly remount, call drive.mount(\"/content/drive\", force_remount=True).\n",
            "/content/drive/My Drive/4-2/COMP4332/Project3/data\n"
          ]
        }
      ]
    },
    {
      "cell_type": "markdown",
      "metadata": {
        "id": "5PE8GUygr7y3"
      },
      "source": [
        "### Loading content feautures tables of users and items"
      ]
    },
    {
      "cell_type": "code",
      "execution_count": 8,
      "metadata": {
        "id": "RlcJCnzpr7y4"
      },
      "outputs": [],
      "source": [
        "user_df = pd.read_csv(\"./user.csv\", index_col=0)  # HCJ: changed filepath since on Google Colab\n",
        "item_df = pd.read_csv(\"./business.csv\", index_col=0)\n",
        "\n",
        "# Renaming columns by adding prefixes to column names\n",
        "user_df = user_df.rename(index=str, columns={t: 'user_' + t for t in user_df.columns if t != 'user_id'})\n",
        "item_df = item_df.rename(index=str, columns={t: 'item_' + t for t in item_df.columns if t != 'business_id'})"
      ]
    },
    {
      "cell_type": "markdown",
      "metadata": {
        "id": "cdmfS7Yrr7y5"
      },
      "source": [
        "### Expanding the table by using user_id and business_id\n",
        "Expanding the train, valiation and test dataset by using `user_id` and `business_id` to query more features from `user_df` and `item_df`."
      ]
    },
    {
      "cell_type": "code",
      "source": [
        "# feature engineering for items (aka businesses)\n",
        "item_attributes = []\n",
        "\n",
        "# helper lambda function to check if a given row of item dataframe has the given attribute name in the 'attributes' column of business.csv\n",
        "def make_item_attr(attribute_name, attr):\n",
        "    if isinstance(attr, str):\n",
        "        attr = eval(attr)\n",
        "        if attribute_name in attr:\n",
        "            return attr[attribute_name]\n",
        "    return 'unk'\n",
        "\n",
        "# Specify column names of deep categorical features for items\n",
        "# OLD\n",
        "item_deep_columns = [\"item_city\", \"item_postal_code\", \"item_state\"]\n",
        "# NEW: added by HCJ\n",
        "item_deep_columns = [\"item_city\", \"item_postal_code\", \"item_state\",\n",
        "                     'business_id', 'item_RestaurantsAttire', 'item_WiFi',\n",
        "                     'item_Ambience', 'item_NoiseLevel', 'item_BusinessAcceptsCreditCards', \n",
        "                     'item_RestaurantsPriceRange2', 'item_GoodForMeal', \n",
        "                     'item_BusinessParking', 'item_RestaurantsGoodForGroups', 'item_Alcohol',\n",
        "                     'item_RestaurantsReservations']\n",
        "for i, attr in enumerate(item_deep_columns):\n",
        "    if i >= 4:  # ignore the first 4 entries in item_deep_columns\n",
        "        # attr[5:] changes something like 'item_Ambience' to 'Ambience'\n",
        "        item_df[attr] = item_df.item_attributes.apply(lambda x: make_item_attr(attr[5:], x))\n"
      ],
      "metadata": {
        "id": "zb4FwRHfrNW_"
      },
      "execution_count": 9,
      "outputs": []
    },
    {
      "cell_type": "code",
      "execution_count": 10,
      "metadata": {
        "id": "q_aIMHQ6r7y6"
      },
      "outputs": [],
      "source": [
        "# HCJ: added sort_values of merged dataframe by index\n",
        "tr_df[\"index\"] = tr_df.index\n",
        "val_df[\"index\"]  = val_df.index\n",
        "te_df[\"index\"] = te_df.index\n",
        "\n",
        "tr_df = pd.merge(pd.merge(tr_df, user_df, on='user_id'), item_df, on='business_id').sort_values(by=['index']).reset_index(drop=True)\n",
        "val_df = pd.merge(pd.merge(val_df, user_df, on='user_id'), item_df, on='business_id').sort_values(by=['index']).reset_index(drop=True)\n",
        "te_df = pd.merge(pd.merge(te_df, user_df, on='user_id'), item_df, on='business_id').sort_values(by=['index']).reset_index(drop=True)"
      ]
    },
    {
      "cell_type": "markdown",
      "metadata": {
        "id": "00KPI6owr7y7"
      },
      "source": [
        "### Preparing continuous features"
      ]
    },
    {
      "cell_type": "code",
      "execution_count": 11,
      "metadata": {
        "id": "0me1UZ1Fr7y8",
        "colab": {
          "base_uri": "https://localhost:8080/"
        },
        "outputId": "4a29a409-7f9a-467f-886b-ebfe4b5afb73"
      },
      "outputs": [
        {
          "output_type": "execute_result",
          "data": {
            "text/plain": [
              "(60080, 22)"
            ]
          },
          "metadata": {},
          "execution_count": 11
        }
      ],
      "source": [
        "# Specify the columns containing continuous features\n",
        "# OLD\n",
        "continuous_columns = [\"user_average_stars\", \"user_cool\", \"user_fans\", \n",
        "                      \"user_review_count\", \"user_useful\", \"user_funny\",\n",
        "                      \"item_is_open\", \"item_latitude\", \"item_longitude\", \n",
        "                      \"item_review_count\", \"item_stars\"]\n",
        "# NEW: added by HCJ\n",
        "continuous_columns = [\"user_average_stars\", \"user_cool\", \"user_fans\", \n",
        "                      \"user_review_count\", \"user_useful\", \"user_funny\",\n",
        "                      \"item_is_open\", \"item_latitude\", \"item_longitude\", \n",
        "                      \"item_review_count\", \"item_stars\",\n",
        "                      'user_compliment_hot', 'user_compliment_more',\n",
        "                      'user_compliment_profile', 'user_compliment_cute',\n",
        "                      'user_compliment_list', 'user_compliment_note', 'user_compliment_plain',\n",
        "                      'user_compliment_cool', 'user_compliment_funny',\n",
        "                      'user_compliment_writer', 'user_compliment_photos',\n",
        "                     ]\n",
        "\n",
        "# Get values of continous features for train/validation/test sets using the utility function defined previously\n",
        "\n",
        "tr_continuous_features = get_continuous_features(tr_df, continuous_columns)\n",
        "val_continuous_features = get_continuous_features(val_df, continuous_columns)\n",
        "te_continuous_features = get_continuous_features(te_df, continuous_columns)\n",
        "\n",
        "# Standardize each feature by removing the mean of the training samples and scaling to unit variance.\n",
        "# See https://scikit-learn.org/stable/modules/generated/sklearn.preprocessing.StandardScaler.html for more details.\n",
        "scaler = StandardScaler().fit(tr_continuous_features)\n",
        "\n",
        "tr_continuous_features = scaler.transform(tr_continuous_features)\n",
        "val_continuous_features = scaler.transform(val_continuous_features)\n",
        "te_continuous_features = scaler.transform(te_continuous_features)\n",
        "\n",
        "tr_continuous_features.shape"
      ]
    },
    {
      "cell_type": "markdown",
      "metadata": {
        "id": "NJ55Xj-Fr7y9"
      },
      "source": [
        "### Preparing deep categorical features"
      ]
    },
    {
      "cell_type": "code",
      "execution_count": 12,
      "metadata": {
        "id": "v8BvjWGDr7y-"
      },
      "outputs": [],
      "source": [
        "# An array of integers where deep_vocab_lens[i] represents the number of unique values of (i+1)-th deep categorical feature\n",
        "# Transforming words into indices for each categorical columns\n",
        "item_deep_vocab_lens = []\n",
        "for col_name in item_deep_columns:\n",
        "    # Getting unique values of this deep categorical feature\n",
        "    unique_values = item_df[col_name].unique()\n",
        "    \n",
        "    # Creating a dictionary to map from unique values to the corresponding index\n",
        "    vocab = dict(zip(unique_values, range(1, len(unique_values)+1)))\n",
        "    \n",
        "    # Getting the number of unique values of this deep categorical features\n",
        "    item_deep_vocab_lens.append(len(vocab)+1)\n",
        "    \n",
        "    # Creating a new column where each entry stores the index of this deep categorical feature's value in the same row\n",
        "    item_df[col_name + \"_idx\"] = item_df[col_name].apply(lambda x: vocab[x])\n",
        "\n",
        "\n",
        "# Creating a dictionary mapping each business id to corresponding values of deep categorical features ('business_id' -> ['item_city_idx', 'item_postal_code_idx', 'item_state_idx'] in this case)\n",
        "item_deep_idx_columns = [t + \"_idx\" for t in item_deep_columns]\n",
        "item_to_deep_categorical_features = dict(zip(item_df['business_id'].values, item_df[item_deep_idx_columns].values.tolist()))\n",
        "\n",
        "# Creating numpy arrays storing corresponding deep categorical features' values of train/validation/test sets using the above mapping\n",
        "# OLD: removed by HCJ\n",
        "# tr_deep_categorical_features = np.array(tr_df['business_id'].apply(lambda x: item_to_deep_categorical_features[x]).values.tolist())\n",
        "# val_deep_categorical_features = np.array(val_df['business_id'].apply(lambda x: item_to_deep_categorical_features[x]).values.tolist())\n",
        "# te_deep_categorical_features = np.array(te_df['business_id'].apply(lambda x: item_to_deep_categorical_features[x]).values.tolist())"
      ]
    },
    {
      "cell_type": "code",
      "source": [
        "# this is basically a copy of the above cell but with categorical features for users.\n",
        "# Specify column names of deep categorical features for users\n",
        "user_deep_columns = [\"user_id\", \"user_elite\"]\n",
        "\n",
        "# An array of integers where user_deep_vocab_lens[i] represents the number of unique values of (i+1)-th deep categorical feature\n",
        "user_deep_vocab_lens = []\n",
        "\n",
        "# for each column in the set of user deep categorical features\n",
        "for col_name in user_deep_columns:\n",
        "    # Get all unique values of this deep categorical feature\n",
        "    unique_values = user_df[col_name].unique()\n",
        "    \n",
        "    # Create a dictionary mapping each unique value of that deep categorical feature to a unique integer index\n",
        "    vocab = dict(zip(unique_values, range(1, len(unique_values) + 1)))\n",
        "    \n",
        "    # Get the number of unique values of this deep categorical features and save to user_deep_vocab_lens\n",
        "    user_deep_vocab_lens.append(len(vocab) + 1)\n",
        "    \n",
        "    # Create a new column where each entry stores the integer index of this deep categorical feature's value in the same row\n",
        "    user_df[col_name + \"_idx\"] = user_df[col_name].apply(lambda x: vocab[x])\n",
        "\n",
        "# Create a dictionary mapping each business id to corresponding values of deep categorical features\n",
        "user_deep_idx_columns = [t + \"_idx\" for t in user_deep_columns]\n",
        "user_to_deep_categorical_features = dict(zip(user_df[\"user_id\"].values, user_df[user_deep_idx_columns].values.tolist()))\n",
        "\n",
        "tr_deep_categorical_features = np.array(tr_df.apply(lambda row: item_to_deep_categorical_features[row.business_id] + user_to_deep_categorical_features[row.user_id], axis=1).values.tolist())\n",
        "val_deep_categorical_features = np.array(val_df.apply(lambda row: item_to_deep_categorical_features[row.business_id] + user_to_deep_categorical_features[row.user_id], axis=1).values.tolist())\n",
        "te_deep_categorical_features = np.array(te_df.apply(lambda row: item_to_deep_categorical_features[row.business_id] + user_to_deep_categorical_features[row.user_id], axis=1).values.tolist())\n",
        "\n",
        "tr_deep_categorical_features.shape"
      ],
      "metadata": {
        "colab": {
          "base_uri": "https://localhost:8080/"
        },
        "id": "s79GPe0jtelq",
        "outputId": "673887ef-4d60-461f-be18-cfe68d91c604"
      },
      "execution_count": 13,
      "outputs": [
        {
          "output_type": "execute_result",
          "data": {
            "text/plain": [
              "(60080, 17)"
            ]
          },
          "metadata": {},
          "execution_count": 13
        }
      ]
    },
    {
      "cell_type": "markdown",
      "metadata": {
        "id": "Pr9bl6aIr7y_"
      },
      "source": [
        "### Preparing wide features"
      ]
    },
    {
      "cell_type": "markdown",
      "metadata": {
        "id": "DqJR7JSfr7zA"
      },
      "source": [
        "##### Preparing binary encoding for each selected category"
      ]
    },
    {
      "cell_type": "code",
      "execution_count": 14,
      "metadata": {
        "id": "qoi8BwHIr7zA"
      },
      "outputs": [],
      "source": [
        "# Collect the categories of all items \n",
        "all_categories = [category for category_list in item_df.item_categories.values for category in category_list.split(\", \")]\n",
        "\n",
        "# Sort all unique values of the item categories by their frequencies in descending order\n",
        "category_sorted = sorted(Counter(all_categories).items(), key=lambda x: x[1], reverse=True)\n",
        "\n",
        "# Select top 500 most frequent categories\n",
        "selected_categories = [t[0] for t in category_sorted[:500]]\n",
        "\n",
        "# Create a dictionary mapping each secleted category to a unique integral index\n",
        "selected_categories_to_idx = dict(zip(selected_categories, range(1, len(selected_categories) + 1)))\n",
        "\n",
        "# Map all categories unseen in the item df to index 0\n",
        "selected_categories_to_idx['unk'] = 0\n",
        "\n",
        "# Create a dictionary mapping each integral index to corresponding category\n",
        "idx_to_selected_categories = {val: key for key, val in selected_categories_to_idx.items()}"
      ]
    },
    {
      "cell_type": "markdown",
      "metadata": {
        "id": "wF3xW8ZWr7zB"
      },
      "source": [
        "##### Preparing cross product transformation for categories"
      ]
    },
    {
      "cell_type": "code",
      "execution_count": 15,
      "metadata": {
        "id": "byE0Lap8r7zC"
      },
      "outputs": [],
      "source": [
        "# Get most frequent categories combinantions using the utility function defined previously and store them in the folloing list\n",
        "top_combinations = []\n",
        "\n",
        "# Get top 50 most frequent two-categories combinantions in the train set\n",
        "\n",
        "top_combinations += get_top_k_p_combinations(tr_df, 2, 50, output_freq=False)\n",
        "\n",
        "# Get top 30 most frequent three-categories combinantions in the train set\n",
        "top_combinations += get_top_k_p_combinations(tr_df, 3, 30, output_freq=False)\n",
        "\n",
        "# Get top 20 most frequent four-categories combinantions in the train set\n",
        "top_combinations += get_top_k_p_combinations(tr_df, 4, 20, output_freq=False)\n",
        "\n",
        "# Convert each combinantion in the list to a set data structure\n",
        "top_combinations = [set(t) for t in top_combinations]"
      ]
    },
    {
      "cell_type": "code",
      "execution_count": 16,
      "metadata": {
        "id": "Z_0jDAx-r7zD",
        "colab": {
          "base_uri": "https://localhost:8080/"
        },
        "outputId": "239770e4-2625-4ba6-d846-af580bb7bb30"
      },
      "outputs": [
        {
          "output_type": "execute_result",
          "data": {
            "text/plain": [
              "(60080, 601)"
            ]
          },
          "metadata": {},
          "execution_count": 16
        }
      ],
      "source": [
        "# Getting values of wide features for train/validation/test sets using the utility function defined previously\n",
        "# The following matrices should have a shape of (n_samples, len(selected_categories_to_idx)+len(top_combinations))\n",
        "tr_wide_features = get_wide_features(tr_df, selected_categories_to_idx, top_combinations)\n",
        "val_wide_features = get_wide_features(val_df, selected_categories_to_idx, top_combinations)\n",
        "te_wide_features = get_wide_features(te_df, selected_categories_to_idx, top_combinations)\n",
        "\n",
        "tr_wide_features.shape"
      ]
    },
    {
      "cell_type": "markdown",
      "metadata": {
        "id": "9z2AcyT0r7zE"
      },
      "source": [
        "### Concatenating continuous features, deep categorical features and wide features as an input list"
      ]
    },
    {
      "cell_type": "code",
      "execution_count": 17,
      "metadata": {
        "id": "S1MxYsV0r7zE"
      },
      "outputs": [],
      "source": [
        "tr_features = []\n",
        "tr_features.append(tr_continuous_features)\n",
        "tr_features += [tr_deep_categorical_features[:, i] for i in range(tr_deep_categorical_features.shape[1])]\n",
        "tr_features.append(tr_wide_features)\n",
        "\n",
        "val_features = []\n",
        "val_features.append(val_continuous_features)\n",
        "val_features += [val_deep_categorical_features[:, i] for i in range(val_deep_categorical_features.shape[1])]\n",
        "val_features.append(val_wide_features)\n",
        "\n",
        "te_features = []\n",
        "te_features.append(te_continuous_features)\n",
        "te_features += [te_deep_categorical_features[:, i] for i in range(te_deep_categorical_features.shape[1])]\n",
        "te_features.append(te_wide_features)"
      ]
    },
    {
      "cell_type": "markdown",
      "metadata": {
        "id": "PSAXGPoGr7zL"
      },
      "source": [
        "### Build WDL, then train the model using Adagrad optimizer and mean squared error loss"
      ]
    },
    {
      "cell_type": "code",
      "execution_count": 18,
      "metadata": {
        "id": "KGu6RL8gr7zO",
        "outputId": "549f19b1-88e9-4974-b8a6-a8fb5015e8ac",
        "colab": {
          "base_uri": "https://localhost:8080/"
        }
      },
      "outputs": [
        {
          "output_type": "stream",
          "name": "stdout",
          "text": [
            "Embedding size: 25 | Dropout rate: 0 | Deep component: [256, 128, 64] | train RMSE: 1.014827250673426 | val RMSE: 1.023249375259498\n",
            "Embedding size: 25 | Dropout rate: 0 | Deep component: [512, 256, 128] | train RMSE: 1.010331508780287 | val RMSE: 1.0216953387580983\n",
            "Embedding size: 25 | Dropout rate: 0 | Deep component: [128, 64] | train RMSE: 1.0217125075999007 | val RMSE: 1.0287590366995496\n",
            "Embedding size: 25 | Dropout rate: 0.1 | Deep component: [256, 128, 64] | train RMSE: 1.019900775170998 | val RMSE: 1.0310328440669076\n",
            "Embedding size: 25 | Dropout rate: 0.1 | Deep component: [512, 256, 128] | train RMSE: 1.0112724431290154 | val RMSE: 1.0198415647009806\n",
            "Embedding size: 25 | Dropout rate: 0.1 | Deep component: [128, 64] | train RMSE: 1.0260885880818873 | val RMSE: 1.0327943167574023\n",
            "Embedding size: 25 | Dropout rate: 0.2 | Deep component: [256, 128, 64] | train RMSE: 1.026882560955917 | val RMSE: 1.0319018353258407\n",
            "Embedding size: 25 | Dropout rate: 0.2 | Deep component: [512, 256, 128] | train RMSE: 1.0203596389829388 | val RMSE: 1.031536267794902\n",
            "Embedding size: 25 | Dropout rate: 0.2 | Deep component: [128, 64] | train RMSE: 1.028475319774629 | val RMSE: 1.0362344402839296\n",
            "Embedding size: 25 | Dropout rate: 0.3 | Deep component: [256, 128, 64] | train RMSE: 1.042440895783964 | val RMSE: 1.0481706608022086\n",
            "Embedding size: 25 | Dropout rate: 0.3 | Deep component: [512, 256, 128] | train RMSE: 1.0313852978934541 | val RMSE: 1.0392575730139884\n",
            "Embedding size: 25 | Dropout rate: 0.3 | Deep component: [128, 64] | train RMSE: 1.035048014722116 | val RMSE: 1.0416164750540546\n",
            "Embedding size: 50 | Dropout rate: 0 | Deep component: [256, 128, 64] | train RMSE: 1.0123716002458543 | val RMSE: 1.02419497538324\n",
            "Embedding size: 50 | Dropout rate: 0 | Deep component: [512, 256, 128] | train RMSE: 1.006682381833825 | val RMSE: 1.0171071995822942\n",
            "Embedding size: 50 | Dropout rate: 0 | Deep component: [128, 64] | train RMSE: 1.0152439683017649 | val RMSE: 1.0249279472106976\n",
            "Embedding size: 50 | Dropout rate: 0.1 | Deep component: [256, 128, 64] | train RMSE: 1.0179091644470415 | val RMSE: 1.0259151498515917\n",
            "Embedding size: 50 | Dropout rate: 0.1 | Deep component: [512, 256, 128] | train RMSE: 1.0082090907447787 | val RMSE: 1.0181519167050765\n",
            "Embedding size: 50 | Dropout rate: 0.1 | Deep component: [128, 64] | train RMSE: 1.019457136470974 | val RMSE: 1.030067628045071\n",
            "Embedding size: 50 | Dropout rate: 0.2 | Deep component: [256, 128, 64] | train RMSE: 1.0233457545602667 | val RMSE: 1.033093460703027\n",
            "Embedding size: 50 | Dropout rate: 0.2 | Deep component: [512, 256, 128] | train RMSE: 1.0134776072107285 | val RMSE: 1.0245734864044838\n",
            "Embedding size: 50 | Dropout rate: 0.2 | Deep component: [128, 64] | train RMSE: 1.0230155789857032 | val RMSE: 1.0328384255155623\n",
            "Embedding size: 50 | Dropout rate: 0.3 | Deep component: [256, 128, 64] | train RMSE: 1.029964291871767 | val RMSE: 1.0393894107707484\n",
            "Embedding size: 50 | Dropout rate: 0.3 | Deep component: [512, 256, 128] | train RMSE: 1.0277432480746767 | val RMSE: 1.0377052692133175\n",
            "Embedding size: 50 | Dropout rate: 0.3 | Deep component: [128, 64] | train RMSE: 1.0310813039999096 | val RMSE: 1.0391134233596473\n",
            "Embedding size: 75 | Dropout rate: 0 | Deep component: [256, 128, 64] | train RMSE: 1.0089024419549162 | val RMSE: 1.0190601080495199\n",
            "Embedding size: 75 | Dropout rate: 0 | Deep component: [512, 256, 128] | train RMSE: 1.0068508092173527 | val RMSE: 1.0189619735708608\n",
            "Embedding size: 75 | Dropout rate: 0 | Deep component: [128, 64] | train RMSE: 1.0144135223904973 | val RMSE: 1.0230582906206342\n",
            "Embedding size: 75 | Dropout rate: 0.1 | Deep component: [256, 128, 64] | train RMSE: 1.0111252171190006 | val RMSE: 1.021892487156573\n",
            "Embedding size: 75 | Dropout rate: 0.1 | Deep component: [512, 256, 128] | train RMSE: 1.0061274706262266 | val RMSE: 1.017488863851776\n",
            "Embedding size: 75 | Dropout rate: 0.1 | Deep component: [128, 64] | train RMSE: 1.01890378209158 | val RMSE: 1.0281084267065992\n",
            "Embedding size: 75 | Dropout rate: 0.2 | Deep component: [256, 128, 64] | train RMSE: 1.019431879600813 | val RMSE: 1.0293564378091267\n",
            "Embedding size: 75 | Dropout rate: 0.2 | Deep component: [512, 256, 128] | train RMSE: 1.0097596171095033 | val RMSE: 1.020858858001543\n",
            "Embedding size: 75 | Dropout rate: 0.2 | Deep component: [128, 64] | train RMSE: 1.018488263710259 | val RMSE: 1.0289683880153317\n",
            "Embedding size: 75 | Dropout rate: 0.3 | Deep component: [256, 128, 64] | train RMSE: 1.02703119517239 | val RMSE: 1.0377953546205552\n",
            "Embedding size: 75 | Dropout rate: 0.3 | Deep component: [512, 256, 128] | train RMSE: 1.0163580178867293 | val RMSE: 1.0257511050572827\n",
            "Embedding size: 75 | Dropout rate: 0.3 | Deep component: [128, 64] | train RMSE: 1.0327121509619088 | val RMSE: 1.0433270179052276\n",
            "Embedding size: 100 | Dropout rate: 0 | Deep component: [256, 128, 64] | train RMSE: 1.0109842182688586 | val RMSE: 1.022294489610219\n",
            "Embedding size: 100 | Dropout rate: 0 | Deep component: [512, 256, 128] | train RMSE: 1.0034741379636902 | val RMSE: 1.0163588008710682\n",
            "Embedding size: 100 | Dropout rate: 0 | Deep component: [128, 64] | train RMSE: 1.0128110156914507 | val RMSE: 1.0230881223478998\n",
            "Embedding size: 100 | Dropout rate: 0.1 | Deep component: [256, 128, 64] | train RMSE: 1.013192052027526 | val RMSE: 1.0235381298218509\n",
            "Embedding size: 100 | Dropout rate: 0.1 | Deep component: [512, 256, 128] | train RMSE: 1.007169021369669 | val RMSE: 1.0177111355428419\n",
            "Embedding size: 100 | Dropout rate: 0.1 | Deep component: [128, 64] | train RMSE: 1.014011746647258 | val RMSE: 1.0225942577846308\n",
            "Embedding size: 100 | Dropout rate: 0.2 | Deep component: [256, 128, 64] | train RMSE: 1.013078514982253 | val RMSE: 1.024244868867135\n",
            "Embedding size: 100 | Dropout rate: 0.2 | Deep component: [512, 256, 128] | train RMSE: 1.009415010961225 | val RMSE: 1.0194162207845467\n",
            "Embedding size: 100 | Dropout rate: 0.2 | Deep component: [128, 64] | train RMSE: 1.0178464538205825 | val RMSE: 1.024228483343807\n",
            "Embedding size: 100 | Dropout rate: 0.3 | Deep component: [256, 128, 64] | train RMSE: 1.025272168416719 | val RMSE: 1.0344028910739154\n",
            "Embedding size: 100 | Dropout rate: 0.3 | Deep component: [512, 256, 128] | train RMSE: 1.014675085266583 | val RMSE: 1.025468960038834\n",
            "Embedding size: 100 | Dropout rate: 0.3 | Deep component: [128, 64] | train RMSE: 1.0211272657191002 | val RMSE: 1.0308150169422092\n"
          ]
        }
      ],
      "source": [
        "# added hyperparameter tuning by HCJ\n",
        "EMBEDDING_SIZES = [25, 50, 75, 100]\n",
        "DROPOUT_RATES = [0, 0.1, 0.2, 0.3]\n",
        "DEEP_COMPONENTS = [[256, 128, 64], [512, 256, 128], [128, 64]]\n",
        "RMSEs = {}  # dictionary of RMSE values for each hyperparameter configuration\n",
        "\n",
        "for embedding_size in EMBEDDING_SIZES:\n",
        "    for d_rate in DROPOUT_RATES:\n",
        "        for component in DEEP_COMPONENTS:\n",
        "            wdl_model = build_wdl_model(len(tr_continuous_features[0]), \n",
        "                                        item_deep_vocab_lens + user_deep_vocab_lens, # HCJ: add 'user_deep_vocab_lens'\n",
        "                                        len(tr_wide_features[0]),\n",
        "                                        # new by HCJ\n",
        "                                        embed_size=embedding_size,\n",
        "                                        dropout_rate=d_rate,\n",
        "                                        deep_layers=component)\n",
        "            wdl_model.compile(optimizer='adagrad', loss='mse')\n",
        "            history = wdl_model.fit(tr_features, tr_ratings, epochs=5, verbose=0, # changed number of epochs by HCJ\n",
        "                                    callbacks=[ModelCheckpoint('./models/model.h5')])  # HCJ: changed filepath since on Google Colab\n",
        "            # evaluate model on train and validation sets using RMSE\n",
        "            y_pred_train = wdl_model.predict(tr_features)\n",
        "            train_rmse = rmse(y_pred_train, tr_ratings)\n",
        "            y_pred_val = wdl_model.predict(val_features)\n",
        "            val_rmse = rmse(y_pred_val, val_ratings)\n",
        "            component_str = ' '.join(str(x) for x in component)\n",
        "            key = (embedding_size, d_rate, component_str)\n",
        "            RMSEs[key] = val_rmse\n",
        "            print(\"Embedding size: {} | Dropout rate: {} | Deep component: {} | train RMSE: {} | val RMSE: {}\" .format(embedding_size, d_rate, component, train_rmse, val_rmse))"
      ]
    },
    {
      "cell_type": "code",
      "source": [
        "import seaborn as sns\n",
        "import matplotlib.pyplot as plt\n",
        "%matplotlib inline\n",
        "\n",
        "component = DEEP_COMPONENTS[0]\n",
        "rmse_as_np = np.array([[RMSEs[(embedding_size, d_rate, ' '.join(str(x) for x in component))] for d_rate in DROPOUT_RATES] for embedding_size in EMBEDDING_SIZES])\n",
        "\n",
        "ax_rmse = sns.heatmap(rmse_as_np, annot=True, fmt='.4g', linewidth=0.5, \n",
        "                      xticklabels=DROPOUT_RATES, yticklabels=EMBEDDING_SIZES)\n",
        "ax_rmse.set_xlabel('dropout_rate', fontsize=10)\n",
        "ax_rmse.set_ylabel('embedding_size', fontsize=10)\n",
        "ax_rmse.set_title(\"Validation RMSE for various dropout_rate/embedding_size for Wide & Deep model with deep_layers={}\" .format(component))\n",
        "plt.show()"
      ],
      "metadata": {
        "colab": {
          "base_uri": "https://localhost:8080/",
          "height": 296
        },
        "id": "PHGCiAaOK7sA",
        "outputId": "c976d9dc-9be5-48b6-aea0-e7abdd178639"
      },
      "execution_count": 19,
      "outputs": [
        {
          "output_type": "display_data",
          "data": {
            "text/plain": [
              "<Figure size 432x288 with 2 Axes>"
            ],
            "image/png": "[encoded data removed]"
          },
          "metadata": {
            "needs_background": "light"
          }
        }
      ]
    },
    {
      "cell_type": "code",
      "source": [
        "component = DEEP_COMPONENTS[1]\n",
        "rmse_as_np = np.array([[RMSEs[(embedding_size, d_rate, ' '.join(str(x) for x in component))] for d_rate in DROPOUT_RATES] for embedding_size in EMBEDDING_SIZES])\n",
        "\n",
        "ax_rmse = sns.heatmap(rmse_as_np, annot=True, fmt='.4g', linewidth=0.5, \n",
        "                      xticklabels=DROPOUT_RATES, yticklabels=EMBEDDING_SIZES)\n",
        "ax_rmse.set_xlabel('dropout_rate', fontsize=10)\n",
        "ax_rmse.set_ylabel('embedding_size', fontsize=10)\n",
        "ax_rmse.set_title(\"Validation RMSE for various dropout_rate/embedding_size for Wide & Deep model with deep_layers={}\" .format(component))\n",
        "plt.show()"
      ],
      "metadata": {
        "colab": {
          "base_uri": "https://localhost:8080/",
          "height": 296
        },
        "id": "zqwYwRfINMy6",
        "outputId": "d3261c3c-1687-4f13-829f-34693a286fa6"
      },
      "execution_count": 20,
      "outputs": [
        {
          "output_type": "display_data",
          "data": {
            "text/plain": [
              "<Figure size 432x288 with 2 Axes>"
            ],
            "image/png": "[encoded data removed]"
          },
          "metadata": {
            "needs_background": "light"
          }
        }
      ]
    },
    {
      "cell_type": "code",
      "source": [
        "component = DEEP_COMPONENTS[2]\n",
        "rmse_as_np = np.array([[RMSEs[(embedding_size, d_rate, ' '.join(str(x) for x in component))] for d_rate in DROPOUT_RATES] for embedding_size in EMBEDDING_SIZES])\n",
        "\n",
        "ax_rmse = sns.heatmap(rmse_as_np, annot=True, fmt='.4g', linewidth=0.5, \n",
        "                      xticklabels=DROPOUT_RATES, yticklabels=EMBEDDING_SIZES)\n",
        "ax_rmse.set_xlabel('dropout_rate', fontsize=10)\n",
        "ax_rmse.set_ylabel('embedding_size', fontsize=10)\n",
        "ax_rmse.set_title(\"Validation RMSE for various dropout_rate/embedding_size for Wide & Deep model with deep_layers={}\" .format(component))\n",
        "plt.show()"
      ],
      "metadata": {
        "colab": {
          "base_uri": "https://localhost:8080/",
          "height": 296
        },
        "id": "f164vV4VNNDd",
        "outputId": "9536966b-7fa6-4ecf-d24b-071143e71f57"
      },
      "execution_count": 21,
      "outputs": [
        {
          "output_type": "display_data",
          "data": {
            "text/plain": [
              "<Figure size 432x288 with 2 Axes>"
            ],
            "image/png": "[encoded data removed]"
          },
          "metadata": {
            "needs_background": "light"
          }
        }
      ]
    },
    {
      "cell_type": "code",
      "source": [
        "print(sorted(RMSEs, key=RMSEs.get))  # get RMSEs sorted by their RMSE"
      ],
      "metadata": {
        "colab": {
          "base_uri": "https://localhost:8080/"
        },
        "id": "oU--0kPGN8Da",
        "outputId": "110eafe9-954b-40b8-9a19-14c01ebf5381"
      },
      "execution_count": 22,
      "outputs": [
        {
          "output_type": "stream",
          "name": "stdout",
          "text": [
            "[(100, 0, '512 256 128'), (50, 0, '512 256 128'), (75, 0.1, '512 256 128'), (100, 0.1, '512 256 128'), (50, 0.1, '512 256 128'), (75, 0, '512 256 128'), (75, 0, '256 128 64'), (100, 0.2, '512 256 128'), (25, 0.1, '512 256 128'), (75, 0.2, '512 256 128'), (25, 0, '512 256 128'), (75, 0.1, '256 128 64'), (100, 0, '256 128 64'), (100, 0.1, '128 64'), (75, 0, '128 64'), (100, 0, '128 64'), (25, 0, '256 128 64'), (100, 0.1, '256 128 64'), (50, 0, '256 128 64'), (100, 0.2, '128 64'), (100, 0.2, '256 128 64'), (50, 0.2, '512 256 128'), (50, 0, '128 64'), (100, 0.3, '512 256 128'), (75, 0.3, '512 256 128'), (50, 0.1, '256 128 64'), (75, 0.1, '128 64'), (25, 0, '128 64'), (75, 0.2, '128 64'), (75, 0.2, '256 128 64'), (50, 0.1, '128 64'), (100, 0.3, '128 64'), (25, 0.1, '256 128 64'), (25, 0.2, '512 256 128'), (25, 0.2, '256 128 64'), (25, 0.1, '128 64'), (50, 0.2, '128 64'), (50, 0.2, '256 128 64'), (100, 0.3, '256 128 64'), (25, 0.2, '128 64'), (50, 0.3, '512 256 128'), (75, 0.3, '256 128 64'), (50, 0.3, '128 64'), (25, 0.3, '512 256 128'), (50, 0.3, '256 128 64'), (25, 0.3, '128 64'), (75, 0.3, '128 64'), (25, 0.3, '256 128 64')]\n"
          ]
        }
      ]
    },
    {
      "cell_type": "code",
      "source": [
        "best_config = sorted(RMSEs, key=RMSEs.get)"
      ],
      "metadata": {
        "id": "ScQtx8bQOZt4"
      },
      "execution_count": 23,
      "outputs": []
    },
    {
      "cell_type": "markdown",
      "metadata": {
        "id": "iXVQbHqsr7zR"
      },
      "source": [
        "### Evaluate the model on train and validation sets using RMSE¶"
      ]
    },
    {
      "cell_type": "code",
      "execution_count": 25,
      "metadata": {
        "id": "bMfqqB5Kr7zT",
        "outputId": "6408b6cd-7cea-439b-d764-947bd6f607ba",
        "colab": {
          "base_uri": "https://localhost:8080/"
        }
      },
      "outputs": [
        {
          "output_type": "stream",
          "name": "stdout",
          "text": [
            "Epoch 1/5\n",
            "1878/1878 [==============================] - 27s 14ms/step - loss: 1.9048\n",
            "Epoch 2/5\n",
            "1878/1878 [==============================] - 26s 14ms/step - loss: 1.0511\n",
            "Epoch 3/5\n",
            "1878/1878 [==============================] - 26s 14ms/step - loss: 1.0297\n",
            "Epoch 4/5\n",
            "1878/1878 [==============================] - 27s 14ms/step - loss: 1.0198\n",
            "Epoch 5/5\n",
            "1878/1878 [==============================] - 26s 14ms/step - loss: 1.0136\n",
            "TRAIN RMSE:  1.0045472842304828\n",
            "VALID RMSE:  1.0143703121521215\n"
          ]
        }
      ],
      "source": [
        "# set wdl_model to be the one with lowest RMSE\n",
        "deep_as_list = best_config[0][2].split()  # split with whitespace as separator\n",
        "deep_as_list = [int(x) for x in deep_as_list]\n",
        "wdl_model = build_wdl_model(len(tr_continuous_features[0]), \n",
        "                            item_deep_vocab_lens + user_deep_vocab_lens,\n",
        "                            len(tr_wide_features[0]),\n",
        "                            # new by HCJ\n",
        "                            embed_size=best_config[0][0],\n",
        "                            dropout_rate=best_config[0][1],\n",
        "                            deep_layers=deep_as_list)\n",
        "wdl_model.compile(optimizer='adagrad', loss='mse')\n",
        "history = wdl_model.fit(tr_features, tr_ratings, epochs=5, verbose=1,\n",
        "                        callbacks=[ModelCheckpoint('./models/model.h5')])\n",
        "# make predictions and evaluate on train and validation set again\n",
        "y_pred = wdl_model.predict(tr_features)\n",
        "print(\"TRAIN RMSE: \", rmse(y_pred, tr_ratings))\n",
        "y_pred = wdl_model.predict(val_features)\n",
        "print(\"VALID RMSE: \", rmse(y_pred, val_ratings))"
      ]
    },
    {
      "cell_type": "code",
      "source": [
        "# added by HCJ - don't remove (prediction for test)\n",
        "test_pred = wdl_model.predict(te_features)  # left join test_pred[user_id, business_id, stars] with te_df[user_id, business_id, useless]\n",
        "te_df['stars'] = test_pred  # replace the te_df['stars'] dummy column\n",
        "test_results = te_df.filter(['user_id', 'business_id', 'stars'])\n",
        "test_results.to_csv('./test_pred.csv', index=False)"
      ],
      "metadata": {
        "id": "lDKyQv3quO_u"
      },
      "execution_count": 26,
      "outputs": []
    },
    {
      "cell_type": "code",
      "source": [
        "# added by HCJ - TODO remove\n",
        "te_ratings = pd.read_csv(\"./test_partial.csv\")\n",
        "# join test_pred[user_id, business_id, stars] with te_ratings[user_id, business_id, stars] since te_ratings is incomplete\n",
        "te_df_joined = pd.merge(te_df, te_ratings, on=[\"user_id\", \"business_id\"], how=\"inner\")  # should only have as many rows as te_ratings (the smaller df)\n",
        "print(te_df_joined.shape)\n",
        "te_pred, te_actual = te_df_joined['stars_x'].values, te_df_joined['stars_y'].values  # extract the predicted stars and actual stars\n",
        "print(\"TEST RMSE: \", rmse(te_pred, te_actual))  # compute test RMSE"
      ],
      "metadata": {
        "id": "0KvUdw9Atet9",
        "colab": {
          "base_uri": "https://localhost:8080/"
        },
        "outputId": "a74aacaf-d21b-4bb4-fd63-87e43782404b"
      },
      "execution_count": 32,
      "outputs": [
        {
          "output_type": "stream",
          "name": "stdout",
          "text": [
            "(7442, 49)\n",
            "TEST RMSE:  1.0096445891731147\n"
          ]
        }
      ]
    }
  ],
  "metadata": {
    "kernelspec": {
      "display_name": "Python 3.8.13 (comp4332)",
      "language": "python",
      "name": "comp4332"
    },
    "language_info": {
      "codemirror_mode": {
        "name": "ipython",
        "version": 3
      },
      "file_extension": ".py",
      "mimetype": "text/x-python",
      "name": "python",
      "nbconvert_exporter": "python",
      "pygments_lexer": "ipython3",
      "version": "3.8.13"
    },
    "colab": {
      "name": "Tutorial 8 Wide & Deep Learning.ipynb",
      "provenance": [],
      "collapsed_sections": []
    }
  },
  "nbformat": 4,
  "nbformat_minor": 0
}