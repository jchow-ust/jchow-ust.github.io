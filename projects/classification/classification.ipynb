{
  "nbformat": 4,
  "nbformat_minor": 0,
  "metadata": {
    "colab": {
      "name": "DSCT4900 Spring 2021 Module 1 Classification.ipynb",
      "provenance": [],
      "collapsed_sections": []
    },
    "kernelspec": {
      "display_name": "Python 3",
      "language": "python",
      "name": "python3"
    },
    "language_info": {
      "codemirror_mode": {
        "name": "ipython",
        "version": 3
      },
      "file_extension": ".py",
      "mimetype": "text/x-python",
      "name": "python",
      "nbconvert_exporter": "python",
      "pygments_lexer": "ipython3",
      "version": "3.8.1-final"
    },
    "accelerator": "GPU"
  },
  "cells": [
    {
      "cell_type": "markdown",
      "metadata": {
        "id": "GqNoeoTX6iUR"
      },
      "source": [
        "# DSCT4900 Spring 2021 - CHOW Hau Cheung Jasper 20589533\n",
        "\n"
      ]
    },
    {
      "cell_type": "markdown",
      "metadata": {
        "id": "BPbjfnXTiGeJ"
      },
      "source": [
        "## Imports"
      ]
    },
    {
      "cell_type": "code",
      "metadata": {
        "id": "h6e6avJXiGeK"
      },
      "source": [
        "import time\n",
        "import os\n",
        "import random\n",
        "import math\n",
        "\n",
        "import numpy as np\n",
        "import matplotlib.pyplot as plt\n",
        "import pandas as pd\n",
        "\n",
        "\n",
        "%matplotlib inline"
      ],
      "execution_count": 1,
      "outputs": []
    },
    {
      "cell_type": "markdown",
      "metadata": {
        "id": "qRAfnPI7iQw_"
      },
      "source": [
        "## Load data (for Google Colab only)\n",
        "If you are using google colab, this code helps you easily load data.\n",
        "\n",
        "**Remember to change runtime type to GPU if you are using google colab.**\n",
        "\n",
        "Please store the dataset folder ([data](https://drive.google.com/drive/folders/1_0Doj4SmfqSNSm9CeMqNlagfb4APLQfq?usp=sharing)) to an appropriate location first."
      ]
    },
    {
      "cell_type": "code",
      "metadata": {
        "colab": {
          "base_uri": "https://localhost:8080/"
        },
        "id": "q9L4GpX-ic_T",
        "outputId": "24d617de-423f-41ed-ef7e-c1fb4f26fb0a"
      },
      "source": [
        "assert os.environ['COLAB_GPU'], 'Make sure to select GPU from Edit > Notebook settings > Hardware accelerator'\n",
        "from google.colab import drive\n",
        "drive.mount('/content/drive')"
      ],
      "execution_count": 2,
      "outputs": [
        {
          "output_type": "stream",
          "text": [
            "Drive already mounted at /content/drive; to attempt to forcibly remount, call drive.mount(\"/content/drive\", force_remount=True).\n"
          ],
          "name": "stdout"
        }
      ]
    },
    {
      "cell_type": "markdown",
      "metadata": {
        "id": "KreDT0_6j-F_"
      },
      "source": [
        "Then link the `data` in google drive to `./data`"
      ]
    },
    {
      "cell_type": "code",
      "metadata": {
        "id": "edZ7EkhOiym7"
      },
      "source": [
        "!rm -f data\n",
        "!ln -s '/content/drive/My Drive/3-2/DSCT4900' data"
      ],
      "execution_count": 3,
      "outputs": []
    },
    {
      "cell_type": "markdown",
      "metadata": {
        "id": "8EfZOl1jktwG"
      },
      "source": [
        "## With L2 loss\n",
        "Q1 and Q2"
      ]
    },
    {
      "cell_type": "code",
      "metadata": {
        "colab": {
          "base_uri": "https://localhost:8080/",
          "height": 259
        },
        "id": "5mEzeNBJbxtf",
        "outputId": "822b97c1-b361-4565-a009-ea905bc94bf6"
      },
      "source": [
        "from sklearn.linear_model import LogisticRegression\n",
        "from sklearn.preprocessing import StandardScaler\n",
        "\n",
        "from sklearn.metrics import confusion_matrix\n",
        "from sklearn.metrics import classification_report\n",
        "from sklearn.metrics import roc_curve, auc\n",
        "\n",
        "# separate data into train and test datasets\n",
        "ztrain = pd.read_csv(\"data/card_train_DSCT4900.csv\")\n",
        "ztest = pd.read_csv(\"data/card_test_DSCT4900.csv\")\n",
        "\n",
        "# trainX refers to training data. testX refers to training data.\n",
        "# trainY is the corresponding labels of training data. testY is the corresponding labels for test data\n",
        "trainX = ztrain.drop(\"Class\", 1)\n",
        "trainY = ztrain[\"Class\"]\n",
        "testX = ztest.drop(\"Class\", 1)\n",
        "testY = ztest[\"Class\"]\n",
        "\n",
        "ss = StandardScaler()\n",
        "# make sure trainX and testX are in the same scale after transformation\n",
        "trainX_std = ss.fit_transform(trainX)\n",
        "testX_std = ss.transform(testX)\n",
        "\n",
        "# fit data to logistic regression model\n",
        "lr = LogisticRegression(solver = 'liblinear', penalty='l2').fit(trainX_std, trainY)\n",
        "predictedY = lr.predict(testX_std)\n",
        "cfmat1 = confusion_matrix(y_true = testY, y_pred = predictedY)\n",
        "print(cfmat1)\n",
        "\n",
        "# print confusion matrix\n",
        "fig, ax = plt.subplots(figsize=(3,3))\n",
        "ax.matshow(cfmat1, cmap=plt.cm.Greens, alpha=0.5)\n",
        "for i in range(cfmat1.shape[0]):\n",
        "  for j in range(cfmat1.shape[1]):\n",
        "    ax.text(x=j, y=i, s=cfmat1[i,j], va=\"center\", ha=\"center\")\n",
        "plt.xlabel(\"Predicted Class\")\n",
        "plt.ylabel(\"Ground truth Class\")\n",
        "plt.show()\n"
      ],
      "execution_count": 4,
      "outputs": [
        {
          "output_type": "stream",
          "text": [
            "[[93  6]\n",
            " [ 9 91]]\n"
          ],
          "name": "stdout"
        },
        {
          "output_type": "display_data",
          "data": {
            "image/png": "[encoded data removed]",
            "text/plain": [
              "<Figure size 216x216 with 1 Axes>"
            ]
          },
          "metadata": {
            "tags": [],
            "needs_background": "light"
          }
        }
      ]
    },
    {
      "cell_type": "code",
      "metadata": {
        "colab": {
          "base_uri": "https://localhost:8080/",
          "height": 434
        },
        "id": "h4TBd5gckN5h",
        "outputId": "cf545449-6a58-40d5-d780-b44719aa3a2a"
      },
      "source": [
        "print(classification_report(testY, predictedY))\n",
        "\n",
        "# tpr = true positive rate, fpr = false positive rate\n",
        "fpr, tpr, thresholds = roc_curve(testY, lr.predict_proba(testX_std)[:,1])\n",
        "roc_auc = auc(fpr, tpr)\n",
        "\n",
        "# plot the ROC curve with AUC\n",
        "plt.title(\"Receiver Operating Characteristic Curve\")\n",
        "plt.plot(fpr, tpr, 'b', marker = \"o\", label=\"AUC = %0.3f\" % roc_auc)\n",
        "plt.legend(loc = \"lower right\")\n",
        "plt.plot([0, 1], [0, 1], \"r--\")\n",
        "plt.xlim([0.0, 1.0])\n",
        "plt.ylim([0.0, 1.0])\n",
        "plt.ylabel(\"FPR\")\n",
        "plt.ylabel(\"TPR\")\n",
        "plt.show()"
      ],
      "execution_count": 5,
      "outputs": [
        {
          "output_type": "stream",
          "text": [
            "              precision    recall  f1-score   support\n",
            "\n",
            "           0       0.91      0.94      0.93        99\n",
            "           1       0.94      0.91      0.92       100\n",
            "\n",
            "    accuracy                           0.92       199\n",
            "   macro avg       0.92      0.92      0.92       199\n",
            "weighted avg       0.93      0.92      0.92       199\n",
            "\n"
          ],
          "name": "stdout"
        },
        {
          "output_type": "display_data",
          "data": {
            "image/png": "[encoded data removed]",
            "text/plain": [
              "<Figure size 432x288 with 1 Axes>"
            ]
          },
          "metadata": {
            "tags": [],
            "needs_background": "light"
          }
        }
      ]
    },
    {
      "cell_type": "markdown",
      "metadata": {
        "id": "wuO9pCrEkxtS"
      },
      "source": [
        "## With L1 loss\n",
        "Q3"
      ]
    },
    {
      "cell_type": "code",
      "metadata": {
        "colab": {
          "base_uri": "https://localhost:8080/",
          "height": 676
        },
        "id": "8pZlBr2_kzop",
        "outputId": "e1a07efe-cb92-468a-d64f-5808f6be0a11"
      },
      "source": [
        "lr = LogisticRegression(solver = 'liblinear', penalty='l1').fit(trainX_std, trainY)\n",
        "predictedY = lr.predict(testX_std)\n",
        "cfmat1 = confusion_matrix(y_true = testY, y_pred = predictedY)\n",
        "print(cfmat1)\n",
        "\n",
        "# print confusion matrix\n",
        "fig, ax = plt.subplots(figsize=(3,3))\n",
        "ax.matshow(cfmat1, cmap=plt.cm.Reds, alpha=0.5)\n",
        "for i in range(cfmat1.shape[0]):\n",
        "  for j in range(cfmat1.shape[1]):\n",
        "    ax.text(x=j, y=i, s=cfmat1[i,j], va=\"center\", ha=\"center\")\n",
        "plt.xlabel(\"Predicted Class\")\n",
        "plt.ylabel(\"Ground truth Class\")\n",
        "plt.show()\n",
        "\n",
        "print(classification_report(testY, predictedY))\n",
        "\n",
        "# tpr = true positive rate, fpr = false positive rate\n",
        "fpr, tpr, thresholds = roc_curve(testY, lr.predict_proba(testX_std)[:,1])\n",
        "roc_auc = auc(fpr, tpr)\n",
        "\n",
        "# plot the ROC curve with AUC\n",
        "plt.title(\"Receiver Operating Characteristic Curve\")\n",
        "plt.plot(fpr, tpr, 'b', marker = \"o\", label=\"AUC = %0.3f\" % roc_auc)\n",
        "plt.legend(loc = \"lower right\")\n",
        "plt.plot([0, 1], [0, 1], \"r--\")\n",
        "plt.xlim([0.0, 1.0])\n",
        "plt.ylim([0.0, 1.0])\n",
        "plt.ylabel(\"FPR\")\n",
        "plt.ylabel(\"TPR\")\n",
        "plt.show()"
      ],
      "execution_count": 6,
      "outputs": [
        {
          "output_type": "stream",
          "text": [
            "[[85 14]\n",
            " [ 9 91]]\n"
          ],
          "name": "stdout"
        },
        {
          "output_type": "display_data",
          "data": {
            "image/png": "[encoded data removed]",
            "text/plain": [
              "<Figure size 216x216 with 1 Axes>"
            ]
          },
          "metadata": {
            "tags": [],
            "needs_background": "light"
          }
        },
        {
          "output_type": "stream",
          "text": [
            "              precision    recall  f1-score   support\n",
            "\n",
            "           0       0.90      0.86      0.88        99\n",
            "           1       0.87      0.91      0.89       100\n",
            "\n",
            "    accuracy                           0.88       199\n",
            "   macro avg       0.89      0.88      0.88       199\n",
            "weighted avg       0.89      0.88      0.88       199\n",
            "\n"
          ],
          "name": "stdout"
        },
        {
          "output_type": "display_data",
          "data": {
            "image/png": "[encoded data removed]",
            "text/plain": [
              "<Figure size 432x288 with 1 Axes>"
            ]
          },
          "metadata": {
            "tags": [],
            "needs_background": "light"
          }
        }
      ]
    }
  ]
}