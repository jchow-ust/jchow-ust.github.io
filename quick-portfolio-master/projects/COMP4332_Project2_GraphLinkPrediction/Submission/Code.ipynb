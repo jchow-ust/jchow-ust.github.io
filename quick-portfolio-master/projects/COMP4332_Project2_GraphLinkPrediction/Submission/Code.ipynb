{
  "cells": [
    {
      "cell_type": "code",
      "execution_count": null,
      "metadata": {
        "id": "DBFqVMDXFTcy"
      },
      "outputs": [],
      "source": [
        "import networkx as nx\n",
        "import numpy as np\n",
        "import os\n",
        "import time\n",
        "import pandas as pd\n",
        "import matplotlib.pyplot as plt\n",
        "from itertools import chain\n",
        "from collections import defaultdict\n",
        "from gensim.models import Word2Vec\n",
        "from sklearn.model_selection import KFold\n",
        "from sklearn.metrics import roc_auc_score"
      ]
    },
    {
      "cell_type": "markdown",
      "metadata": {
        "id": "3M-jkebFFTc6"
      },
      "source": [
        "# Pipeline"
      ]
    },
    {
      "cell_type": "markdown",
      "metadata": {
        "id": "5qs7R843FTc8"
      },
      "source": [
        "### Data Loader"
      ]
    },
    {
      "cell_type": "markdown",
      "metadata": {
        "id": "uymGJHEmFTc9"
      },
      "source": [
        "We need to load networks into memory. Usually networks are organized as pairs of nodes. And sometimes different edges have different weights. Hence, we use networkx.DiGraph to store such structure information and attributes."
      ]
    },
    {
      "cell_type": "code",
      "execution_count": null,
      "metadata": {
        "id": "9YlQbtCqFTc-"
      },
      "outputs": [],
      "source": [
        "def load_data(file_name):\n",
        "    \"\"\"\n",
        "    read edges from an edge file\n",
        "    \"\"\"\n",
        "    edges = list()\n",
        "    df = pd.read_csv(file_name)\n",
        "    for idx, row in df.iterrows():\n",
        "        user_id, friends = row[\"user_id\"], eval(row[\"friends\"])\n",
        "        for friend in friends:\n",
        "            # add each friend relation as an edge\n",
        "            edges.append((user_id, friend))\n",
        "    edges = sorted(edges)\n",
        "    \n",
        "    return edges\n",
        "\n",
        "def load_test_data(file_name):\n",
        "    \"\"\"\n",
        "    read edges from an edge file\n",
        "    \"\"\"\n",
        "    edges = list()\n",
        "    scores = list()\n",
        "    df = pd.read_csv(file_name)\n",
        "    for idx, row in df.iterrows():\n",
        "        edges.append((row[\"src\"], row[\"dst\"]))\n",
        "    edges = sorted(edges)\n",
        "    \n",
        "    return edges\n",
        "\n",
        "def generate_false_edges(true_edges, num_false_edges=5):\n",
        "    \"\"\"\n",
        "    generate false edges given true edges\n",
        "    \"\"\"\n",
        "    nodes = list(set(chain.from_iterable(true_edges)))\n",
        "    N = len(nodes)\n",
        "    true_edges = set(true_edges)\n",
        "    print(N, len(true_edges))\n",
        "    false_edges = set()\n",
        "    \n",
        "    while len(false_edges) < num_false_edges:\n",
        "        # randomly sample two different nodes and check whether the pair exisit or not\n",
        "        src, dst = nodes[int(np.random.rand() * N)], nodes[int(np.random.rand() * N)]\n",
        "        if src != dst and (src, dst) not in true_edges and (src, dst) not in false_edges:\n",
        "            false_edges.add((src, dst))\n",
        "    false_edges = sorted(false_edges)\n",
        "    \n",
        "    return false_edges\n",
        "\n",
        "def construct_graph_from_edges(edges):\n",
        "    \"\"\"\n",
        "    generate a directed graph object given true edges\n",
        "    DiGraph documentation: https://networkx.github.io/documentation/stable/reference/classes/digraph.html\n",
        "    \"\"\"\n",
        "    # convert a list of edges {(u, v)} to a list of edges with weights {(u, v, w)}\n",
        "    edge_weight = defaultdict(float)\n",
        "    for e in edges:\n",
        "        edge_weight[e] += 1.0\n",
        "    weighed_edge_list = list()\n",
        "    for e in sorted(edge_weight.keys()):\n",
        "        weighed_edge_list.append((e[0], e[1], edge_weight[e]))\n",
        "        \n",
        "    graph = nx.DiGraph()\n",
        "    graph.add_weighted_edges_from(weighed_edge_list)\n",
        "    \n",
        "    print(\"number of nodes:\", graph.number_of_nodes())\n",
        "    print(\"number of edges:\", graph.number_of_edges())\n",
        "    \n",
        "    return graph"
      ]
    },
    {
      "cell_type": "markdown",
      "metadata": {
        "id": "NL4rasLZFTdM"
      },
      "source": [
        "### Random Walk Generator"
      ]
    },
    {
      "cell_type": "markdown",
      "metadata": {
        "id": "bChsKe3yFTdN"
      },
      "source": [
        "Random walk generators or random walkers yield random walks that contain both local and higher-order neighborhood information. However, naive non-uniform sampling is very slow, which requires O(n) time complexity. Here alias sampling can reduce the time complexity to O(1) with O(n) space. If you are interested, please see the following blog."
      ]
    },
    {
      "cell_type": "code",
      "execution_count": null,
      "metadata": {
        "id": "y5qcM_GDFTdO"
      },
      "outputs": [],
      "source": [
        "def alias_setup(probs):\n",
        "    \"\"\"\n",
        "    compute utility lists for non-uniform sampling from discrete distributions.\n",
        "    details: https://lips.cs.princeton.edu/the-alias-method-efficient-sampling-with-many-discrete-outcomes/\n",
        "    \"\"\"\n",
        "    K = len(probs)\n",
        "    q = np.zeros(K)\n",
        "    J = np.zeros(K, dtype=int)  # replaced np.int with int to remove warning\n",
        "\n",
        "    smaller = list()\n",
        "    larger = list()\n",
        "    for kk, prob in enumerate(probs):\n",
        "        q[kk] = K * prob\n",
        "        if q[kk] < 1.0:\n",
        "            smaller.append(kk)\n",
        "        else:\n",
        "            larger.append(kk)\n",
        "\n",
        "    while len(smaller) > 0 and len(larger) > 0:\n",
        "        small = smaller.pop()\n",
        "        large = larger.pop()\n",
        "\n",
        "        J[small] = large\n",
        "        q[large] = q[large] + q[small] - 1.0\n",
        "        if q[large] < 1.0:\n",
        "            smaller.append(large)\n",
        "        else:\n",
        "            larger.append(large)\n",
        "\n",
        "    return J, q\n",
        "\n",
        "def get_alias_node(graph, node):\n",
        "    \"\"\"\n",
        "    get the alias node setup lists for a given node.\n",
        "    \"\"\"\n",
        "    # get the unnormalized probabilities with the first-order information\n",
        "    unnormalized_probs = list()\n",
        "    for nbr in graph.neighbors(node):\n",
        "        unnormalized_probs.append(graph[node][nbr][\"weight\"])\n",
        "    unnormalized_probs = np.array(unnormalized_probs)\n",
        "    if len(unnormalized_probs) > 0:\n",
        "        normalized_probs = unnormalized_probs / unnormalized_probs.sum()\n",
        "    else:\n",
        "        normalized_probs = unnormalized_probs\n",
        "        \n",
        "    return alias_setup(normalized_probs)\n",
        "    \n",
        "def get_alias_edge(graph, src, dst, p=1, q=1):\n",
        "    \"\"\"\n",
        "    get the alias edge setup lists for a given edge.\n",
        "    \"\"\"\n",
        "    # get the unnormalized probabilities with the second-order information\n",
        "    unnormalized_probs = list()\n",
        "    for dst_nbr in graph.neighbors(dst):\n",
        "        if dst_nbr == src: # distance is 0\n",
        "            unnormalized_probs.append(graph[dst][dst_nbr][\"weight\"]/p)\n",
        "        elif graph.has_edge(dst_nbr, src): # distance is 1\n",
        "            unnormalized_probs.append(graph[dst][dst_nbr][\"weight\"])\n",
        "        else: # distance is 2\n",
        "            unnormalized_probs.append(graph[dst][dst_nbr][\"weight\"]/q)\n",
        "    unnormalized_probs = np.array(unnormalized_probs)\n",
        "    if len(unnormalized_probs) > 0:\n",
        "        normalized_probs = unnormalized_probs / unnormalized_probs.sum()\n",
        "    else:\n",
        "        normalized_probs = unnormalized_probs\n",
        "\n",
        "    return alias_setup(normalized_probs)\n",
        "\n",
        "def preprocess_transition_probs(graph, p=1, q=1):\n",
        "    \"\"\"\n",
        "    preprocess transition probabilities for guiding the random walks.\n",
        "    \"\"\"\n",
        "    alias_nodes = dict()\n",
        "    for node in graph.nodes():\n",
        "        alias_nodes[node] = get_alias_node(graph, node)\n",
        "\n",
        "    alias_edges = dict()\n",
        "    for edge in graph.edges():\n",
        "        alias_edges[edge] = get_alias_edge(graph, edge[0], edge[1], p=p, q=q)\n",
        "\n",
        "    return alias_nodes, alias_edges"
      ]
    },
    {
      "cell_type": "markdown",
      "metadata": {
        "id": "CnVQpOJQFTdS"
      },
      "source": [
        "The difference between DeepWalk and node2vec is how to generate random walks. The former only consider the first-order information while the latter also involves the second-order information."
      ]
    },
    {
      "cell_type": "code",
      "execution_count": null,
      "metadata": {
        "id": "n5OwRpFeFTdT"
      },
      "outputs": [],
      "source": [
        "def alias_draw(J, q):\n",
        "    \"\"\"\n",
        "    draw sample from a non-uniform discrete distribution using alias sampling.\n",
        "    \"\"\"\n",
        "    K = len(J)\n",
        "\n",
        "    kk = int(np.floor(np.random.rand() * K))\n",
        "    if np.random.rand() < q[kk]:\n",
        "        return kk\n",
        "    else:\n",
        "        return J[kk]\n",
        "\n",
        "\n",
        "# helper function to generate the long random walk as desired\n",
        "def fallback(walk, fetch_last_num=1):\n",
        "    if len(walk) > fetch_last_num:\n",
        "        walk.pop()\n",
        "        fetched = []\n",
        "        for i in range(fetch_last_num):\n",
        "            fetched.append(walk[-1-i])\n",
        "        return walk, fetched\n",
        "    else:\n",
        "        return [], [None for _ in range(fetch_last_num)]\n",
        "\n",
        "def generate_first_order_random_walk(graph, alias_nodes, \n",
        "                                     walk_length=10, start_node=None, verbose=False, max_trails=10):\n",
        "    \"\"\"\n",
        "    simulate a random walk starting from start node and considering the first order information.\n",
        "    max_trials: set the max trials to be one for standard random walk. Larger max_trails will make the generated biased.\n",
        "    \"\"\"\n",
        "    if start_node == None:\n",
        "        start_node = np.random.choice(graph.nodes())\n",
        "    walk = [start_node]\n",
        "    cur = start_node\n",
        "    num_tried = 0\n",
        "    \n",
        "    ########## begin ##########\n",
        "    while len(walk) < walk_length:\n",
        "        cur_nbrs = list(graph.neighbors(cur))\n",
        "        if len(cur_nbrs) > 0: # if we can sample next nodes\n",
        "            # sample the next node based on alias_nodes\n",
        "            cur = cur_nbrs[alias_draw(*alias_nodes[cur])]\n",
        "            walk.append(cur)\n",
        "        else: # if we can't do that\n",
        "            num_tried += 1\n",
        "            if num_tried >= max_trails:\n",
        "                break\n",
        "\n",
        "            walk, fetched = fallback(walk, fetch_last_num=1)\n",
        "            cur = fetched[0]\n",
        "            if len(walk) == 0: # if falls back to the empty walk\n",
        "                start_node = np.random.choice(graph.nodes())\n",
        "                walk = [start_node]\n",
        "                cur = start_node\n",
        "    ########## end ##########\n",
        "\n",
        "    if verbose: \n",
        "        print(f'walk of lenght {len(walk)} generated with {num_tried} trails')\n",
        "    return walk\n",
        "    \n",
        "def generate_second_order_random_walk(graph, alias_nodes, alias_edges, \n",
        "                                      walk_length=10, start_node=None, verbose=False, max_trails=10):\n",
        "    \"\"\"\n",
        "    simulate a random walk starting from start node and considering the second order information.\n",
        "    \"\"\"\n",
        "    if start_node == None:\n",
        "        start_node = np.random.choice(graph.nodes())\n",
        "    walk = [start_node]\n",
        "    \n",
        "    prev = None\n",
        "    cur = start_node\n",
        "    num_tried = 0\n",
        "\n",
        "    ########## begin ##########\n",
        "    while len(walk) < walk_length:\n",
        "        cur_nbrs = list(graph.neighbors(cur))\n",
        "        if len(cur_nbrs) > 0:\n",
        "            if prev is None:\n",
        "                # sample the next node based on alias_nodes\n",
        "                prev, cur = cur, cur_nbrs[alias_draw(*alias_nodes[cur])]\n",
        "            else:\n",
        "                # sample the next node based on alias_edges\n",
        "                prev, cur = cur, cur_nbrs[alias_draw(*alias_edges[(prev, cur)])]\n",
        "            walk.append(cur)\n",
        "        else:\n",
        "            num_tried += 1\n",
        "            if num_tried >= max_trails:\n",
        "                break\n",
        "            walk, (cur, prev) = fallback(walk, fetch_last_num=2)\n",
        "            if len(walk) == 0:\n",
        "                start_node = np.random.choice(graph.nodes())\n",
        "                walk = [start_node]\n",
        "                cur = start_node\n",
        "                prev = None\n",
        "    ########## end ##########\n",
        "    if verbose: \n",
        "        print(f'walk of lenght {len(walk)} generated with {num_tried} trails')\n",
        "    return walk"
      ]
    },
    {
      "cell_type": "markdown",
      "metadata": {
        "id": "EaZ1vFdZFTdU"
      },
      "source": [
        "### Network Embedding Algorithms"
      ]
    },
    {
      "cell_type": "code",
      "execution_count": null,
      "metadata": {
        "id": "1mtGEc2aFTdV"
      },
      "outputs": [],
      "source": [
        "def build_deepwalk(graph, alias_nodes, node_dim=10, num_walks=10, walk_length=10, window_size=3):  # added window_size parameter by HCJ\n",
        "    \"\"\"\n",
        "    build a deepwalk model\n",
        "    \"\"\"\n",
        "    print(\"building a DeepWalk model...\", end=\"\\t\")\n",
        "    st = time.time()\n",
        "    np.random.seed(0)\n",
        "    nodes = list(graph.nodes())\n",
        "    walks = list()\n",
        "    # generate random walks\n",
        "    for walk_iter in range(num_walks):\n",
        "        np.random.shuffle(nodes)\n",
        "        for node in nodes:\n",
        "            walks.append(generate_first_order_random_walk(\n",
        "                graph, alias_nodes, walk_length=walk_length, start_node=node))\n",
        "        \n",
        "    walk_lens = [len(w) for w in walks]\n",
        "    if len(walk_lens) > 0:\n",
        "        avg_walk_len = sum(walk_lens) / len(walk_lens)\n",
        "    else:\n",
        "        avg_walk_len = 0.0\n",
        "    print(\"number of walks: %d\\taverage walk length: %.4f\" % (len(walks), avg_walk_len), end=\"\\t\")\n",
        "    \n",
        "    # train a skip-gram model for these walks\n",
        "    # changed from vector_size=node_dim to size=node_dim and epochs=10 to iter=10 by HCJ\n",
        "    model = Word2Vec(walks, size=node_dim, window=window_size, min_count=0, sg=1, workers=os.cpu_count(), iter=10)\n",
        "    print(\"training time: %.4f\" % (time.time()-st))\n",
        "    \n",
        "    return model\n",
        "\n",
        "def build_node2vec(graph, alias_nodes, alias_edges, node_dim=10, num_walks=10, walk_length=10, window_size=3):  # added window size parameter by HCJ\n",
        "    \"\"\"\n",
        "    build a node2vec model\n",
        "    \"\"\"\n",
        "    print(\"building a node2vec model...\", end=\"\\t\")\n",
        "    st = time.time()\n",
        "    np.random.seed(0)\n",
        "    nodes = list(graph.nodes())\n",
        "    walks = list()\n",
        "    # generate random walks\n",
        "    for walk_iter in range(num_walks):\n",
        "        np.random.shuffle(nodes)\n",
        "        for node in nodes:\n",
        "            walks.append(generate_second_order_random_walk(\n",
        "                graph, alias_nodes, alias_edges, walk_length=walk_length, start_node=node))\n",
        "            \n",
        "    walk_lens = [len(w) for w in walks]\n",
        "    if len(walk_lens) > 0:\n",
        "        avg_walk_len = sum(walk_lens) / len(walk_lens)\n",
        "    else:\n",
        "        avg_walk_len = 0.0    \n",
        "    print(\"number of walks: %d\\taverage walk length: %.4f\" % (len(walks), avg_walk_len), end=\"\\t\")\n",
        "    \n",
        "    # train a skip-gram model for these walks\n",
        "    # changed from vector_size=node_dim to size=node_dim and epochs=10 to iter=10 by HCJ\n",
        "    model = Word2Vec(walks, size=node_dim, window=window_size, min_count=0, sg=1, workers=os.cpu_count(), iter=10)\n",
        "    print(\"training time: %.4f\" % (time.time()-st))\n",
        "    \n",
        "    return model"
      ]
    },
    {
      "cell_type": "markdown",
      "metadata": {
        "id": "_1h3m_DiFTdZ"
      },
      "source": [
        "### Scorer"
      ]
    },
    {
      "cell_type": "code",
      "execution_count": null,
      "metadata": {
        "id": "wVz0sGcTFTdZ"
      },
      "outputs": [],
      "source": [
        "def get_cosine_sim(model, u, v):\n",
        "    \"\"\"\n",
        "    get the cosine similarity between two nodes\n",
        "    \"\"\"\n",
        "    try:\n",
        "        u = model.wv[u]\n",
        "        v = model.wv[v]\n",
        "        return np.dot(u, v) / (np.linalg.norm(u) * np.linalg.norm(v))\n",
        "    except:\n",
        "        return 0.5\n",
        "\n",
        "def get_auc_score(model, true_edges, false_edges):\n",
        "    \"\"\"\n",
        "    get the auc score\n",
        "    \"\"\"\n",
        "    y_true = [1] * len(true_edges) + [0] * len(false_edges)\n",
        "    \n",
        "    y_score = list()\n",
        "    for e in true_edges:\n",
        "        y_score.append(get_cosine_sim(model, e[0], e[1]))\n",
        "    for e in false_edges:\n",
        "        y_score.append(get_cosine_sim(model, e[0], e[1]))\n",
        "    \n",
        "    return roc_auc_score(y_true, y_score)\n",
        "\n",
        "def write_pred(file_name, edges, scores):\n",
        "    df = pd.DataFrame()\n",
        "    df[\"src\"] = [e[0] for e in edges]\n",
        "    df[\"dst\"] = [e[1] for e in edges]\n",
        "    df[\"score\"] = scores\n",
        "    df.to_csv(file_name, index=False)\n",
        "\n",
        "def write_valid_ans(file_name, edges, scores):\n",
        "    df = pd.DataFrame()\n",
        "    df[\"src\"] = [e[0] for e in edges]\n",
        "    df[\"dst\"] = [e[1] for e in edges]\n",
        "    df[\"score\"] = scores\n",
        "    df.to_csv(file_name, index=False)"
      ]
    },
    {
      "cell_type": "markdown",
      "metadata": {
        "id": "upqEXPHPFTdc"
      },
      "source": [
        "### Try them over a Real-life Network"
      ]
    },
    {
      "cell_type": "markdown",
      "metadata": {
        "id": "6DNfVU6gFTdd"
      },
      "source": [
        "Firstly, we need to load edges into memory and use the networkx.DiGraph structure to store the graph."
      ]
    },
    {
      "cell_type": "code",
      "execution_count": null,
      "metadata": {
        "colab": {
          "base_uri": "https://localhost:8080/"
        },
        "id": "nuQZcfE2FTdd",
        "outputId": "cc989337-058f-4258-ca18-245c8aefd69a"
      },
      "outputs": [
        {
          "output_type": "stream",
          "name": "stdout",
          "text": [
            "Drive already mounted at /content/drive; to attempt to forcibly remount, call drive.mount(\"/content/drive\", force_remount=True).\n",
            "/content/drive/My Drive/4-2/COMP4332/Project2/data\n"
          ]
        }
      ],
      "source": [
        "from google.colab import drive\n",
        "drive.mount('/content/drive')\n",
        "\n",
        "# load the appropriate directory on Google Drive\n",
        "!rm -f data\n",
        "%cd /content/drive/My Drive/4-2/COMP4332/Project2/data\n",
        "\n",
        "train_file = \"./train.csv\"\n",
        "valid_file = \"./valid.csv\"\n",
        "test_file = \"./test.csv\""
      ]
    },
    {
      "cell_type": "code",
      "source": [
        "np.random.seed(0)\n",
        "train_edges = load_data(train_file)\n",
        "graph = construct_graph_from_edges(train_edges)\n",
        "valid_edges = load_data(valid_file)\n",
        "# train_edges and valid_edges are distinct. Since there are 19267 validation edges, generate 40000-19267=20733 false edges. We want the amount of false edges to be roughly equal to true edges for class balance.\n",
        "false_edges = generate_false_edges(train_edges+valid_edges, 40000-len(valid_edges))\n",
        "test_edges = load_test_data(test_file)"
      ],
      "metadata": {
        "colab": {
          "base_uri": "https://localhost:8080/"
        },
        "id": "6HftmHlVVDPk",
        "outputId": "3246b1f4-c895-4f20-986e-5f9bf23eabb6"
      },
      "execution_count": null,
      "outputs": [
        {
          "output_type": "stream",
          "name": "stdout",
          "text": [
            "number of nodes: 8343\n",
            "number of edges: 100000\n",
            "8496 119267\n"
          ]
        }
      ]
    },
    {
      "cell_type": "markdown",
      "metadata": {
        "id": "W2QUqjK4FTdr"
      },
      "source": [
        "After that, we can use preprocess transition probabilities with the help of alias sampling."
      ]
    },
    {
      "cell_type": "code",
      "execution_count": null,
      "metadata": {
        "id": "KH8DJAiwFTds"
      },
      "outputs": [],
      "source": [
        "alias_nodes, alias_edges = preprocess_transition_probs(graph, p=1, q=1)"
      ]
    },
    {
      "cell_type": "markdown",
      "metadata": {
        "id": "NP3d0uPQFTds"
      },
      "source": [
        "We can use random walk generators to generate random walks."
      ]
    },
    {
      "cell_type": "markdown",
      "metadata": {
        "id": "Bz3U176xFTd6"
      },
      "source": [
        "Let's try to generate a first-order random walk and a second-order random walk."
      ]
    },
    {
      "cell_type": "code",
      "execution_count": null,
      "metadata": {
        "id": "kevUcs6RFTd8",
        "outputId": "ee850f5b-6422-4d40-a18c-2c970c4f85e3",
        "colab": {
          "base_uri": "https://localhost:8080/"
        }
      },
      "outputs": [
        {
          "output_type": "execute_result",
          "data": {
            "text/plain": [
              "['N6ZTMIue-2b30CJv2tyPGg',\n",
              " 'wAqiSluTMo_2T-dTN4Bozg',\n",
              " '4FXbovgSEFZ5_9S5wddFIg',\n",
              " 'UCePaJxpQcMSK0fgE9hMuA',\n",
              " '4FXbovgSEFZ5_9S5wddFIg',\n",
              " 'T8LqkYbwMPZmvXSsUfN8sQ',\n",
              " 'rzq5nqG2NG13o3ISxJSrsQ',\n",
              " 'PeLGa5vUR8_mcsn-fn42Jg',\n",
              " 'rzq5nqG2NG13o3ISxJSrsQ',\n",
              " 'w1TjcJ6itK7LC_IY61NQIQ']"
            ]
          },
          "metadata": {},
          "execution_count": 10
        }
      ],
      "source": [
        "generate_first_order_random_walk(graph, alias_nodes=alias_nodes,\n",
        "                                 start_node=\"N6ZTMIue-2b30CJv2tyPGg\", walk_length=10)"
      ]
    },
    {
      "cell_type": "code",
      "execution_count": null,
      "metadata": {
        "id": "IkdlawLPFTd_",
        "outputId": "4f8cc507-652d-4345-a183-db54e97879b2",
        "colab": {
          "base_uri": "https://localhost:8080/"
        }
      },
      "outputs": [
        {
          "output_type": "execute_result",
          "data": {
            "text/plain": [
              "['N6ZTMIue-2b30CJv2tyPGg',\n",
              " 'aKhv49qQ1A1MDvGZ-cVh7Q',\n",
              " 'kCVPl2RumlSgSDx9PMfXDA',\n",
              " '04J_q_VhSBItxNiEAN-gkA',\n",
              " '82dCHyU-ANOgdhxUgZsUeg',\n",
              " 'Ar3bat-NGasrXDiS7WF8OA',\n",
              " '4qmjySJprpPSKDoxHLIuEQ',\n",
              " 'Ar3bat-NGasrXDiS7WF8OA',\n",
              " 'pQ6jXAENt9gUHqQvXl4DTg',\n",
              " 'Ar3bat-NGasrXDiS7WF8OA']"
            ]
          },
          "metadata": {},
          "execution_count": 11
        }
      ],
      "source": [
        "generate_second_order_random_walk(graph, alias_nodes=alias_nodes, alias_edges=alias_edges,\n",
        "                                  start_node=\"N6ZTMIue-2b30CJv2tyPGg\", walk_length=10)"
      ]
    },
    {
      "cell_type": "markdown",
      "metadata": {
        "id": "PU9cNTTAFTeA"
      },
      "source": [
        "And we can build a DeepWalk model just to test out the embeddings."
      ]
    },
    {
      "cell_type": "code",
      "execution_count": null,
      "metadata": {
        "id": "6S4EKAEgFTeC",
        "outputId": "3f5f1d40-aace-4796-f0e5-b004d3f67848",
        "colab": {
          "base_uri": "https://localhost:8080/"
        }
      },
      "outputs": [
        {
          "output_type": "stream",
          "name": "stdout",
          "text": [
            "building a DeepWalk model...\tnumber of walks: 41715\taverage walk length: 4.9594\ttraining time: 13.3569\n"
          ]
        }
      ],
      "source": [
        "model = build_deepwalk(graph, alias_nodes, node_dim=10, num_walks=5, walk_length=5)"
      ]
    },
    {
      "cell_type": "markdown",
      "metadata": {
        "id": "zNZmy5BBFTee"
      },
      "source": [
        "Let's see the node embeddings of three nodes, and cosine similarities of two edges."
      ]
    },
    {
      "cell_type": "code",
      "execution_count": null,
      "metadata": {
        "id": "VUYDkbdrFTef",
        "outputId": "d3f346f3-b176-447b-a721-f72ed6e22d68",
        "colab": {
          "base_uri": "https://localhost:8080/"
        }
      },
      "outputs": [
        {
          "output_type": "stream",
          "name": "stdout",
          "text": [
            "node embedding (\"N6ZTMIue-2b30CJv2tyPGg\"): [-0.72891504  0.35915303  2.0209687  -0.01987291 -0.78035325 -0.15174383\n",
            " -0.5923883   0.67961794 -1.1858759  -0.63306725]\n",
            "node embedding (\"N7E-CfqdME28dakWdEKNvw\"): [ 0.05572268  0.29713395  2.3199825   0.44634232 -0.7893717   0.22651036\n",
            " -0.38588277  1.0432173  -1.3756577  -0.7393767 ]\n"
          ]
        }
      ],
      "source": [
        "print(\"node embedding (\\\"N6ZTMIue-2b30CJv2tyPGg\\\"):\",\n",
        "      model.wv[\"N6ZTMIue-2b30CJv2tyPGg\"])\n",
        "print(\"node embedding (\\\"N7E-CfqdME28dakWdEKNvw\\\"):\",\n",
        "      model.wv[\"N7E-CfqdME28dakWdEKNvw\"])\n",
        "# unused, not necessary\n",
        "unused = \"\"\"\n",
        "print(\"node embedding (\\\"MmlJSLDg-IFaeXb5wdJbgg\\\"):\",\n",
        "      model.wv.vectors[model.wv.index_to_key.index(\"MmlJSLDg-IFaeXb5wdJbgg\")])\n",
        "print(\"true edge (\\\"N6ZTMIue-2b30CJv2tyPGg\\\", \\\"N7E-CfqdME28dakWdEKNvw\\\"):\",\n",
        "      get_cosine_sim(model, \"N6ZTMIue-2b30CJv2tyPGg\", \"N7E-CfqdME28dakWdEKNvw\"))\n",
        "print(\"false edge (\\\"N6ZTMIue-2b30CJv2tyPGg\\\", \\\"MmlJSLDg-IFaeXb5wdJbgg\\\"):\",\n",
        "      get_cosine_sim(model, \"N6ZTMIue-2b30CJv2tyPGg\", \"MmlJSLDg-IFaeXb5wdJbgg\"))\n",
        "\"\"\""
      ]
    },
    {
      "cell_type": "markdown",
      "metadata": {
        "id": "oQd5K4b3FTeg"
      },
      "source": [
        "# Link Prediction"
      ]
    },
    {
      "cell_type": "markdown",
      "metadata": {
        "id": "4CzV5ZN3FTej"
      },
      "source": [
        "We can train the model with different parameters and test the model on the validation set. Please show your parameter search process and analysis in your code, and visualization tools (Heatmap, etc.) are recommended to make your analysis clear."
      ]
    },
    {
      "cell_type": "code",
      "execution_count": null,
      "metadata": {
        "id": "Zzt8BExVFTek",
        "outputId": "933c9ce4-421b-4cdc-d7cd-ce396ac7ee10",
        "colab": {
          "base_uri": "https://localhost:8080/"
        }
      },
      "outputs": [
        {
          "output_type": "stream",
          "name": "stdout",
          "text": [
            "node dim: 10,\tnum_walks: 5,\twalk_length: 10\twindow_size: 3\tbuilding a DeepWalk model...\tnumber of walks: 41715\taverage walk length: 9.8900\ttraining time: 20.6311\n",
            "auc: 0.9116\n",
            "node dim: 10,\tnum_walks: 5,\twalk_length: 10\twindow_size: 5\tbuilding a DeepWalk model...\tnumber of walks: 41715\taverage walk length: 9.8900\ttraining time: 24.2659\n",
            "auc: 0.9215\n",
            "node dim: 10,\tnum_walks: 5,\twalk_length: 10\twindow_size: 10\tbuilding a DeepWalk model...\tnumber of walks: 41715\taverage walk length: 9.8900\ttraining time: 28.5752\n",
            "auc: 0.9268\n",
            "node dim: 10,\tnum_walks: 5,\twalk_length: 15\twindow_size: 3\tbuilding a DeepWalk model...\tnumber of walks: 41715\taverage walk length: 14.8131\ttraining time: 27.3198\n",
            "auc: 0.9227\n",
            "node dim: 10,\tnum_walks: 5,\twalk_length: 15\twindow_size: 5\tbuilding a DeepWalk model...\tnumber of walks: 41715\taverage walk length: 14.8131\ttraining time: 33.1211\n",
            "auc: 0.9291\n",
            "node dim: 10,\tnum_walks: 5,\twalk_length: 15\twindow_size: 10\tbuilding a DeepWalk model...\tnumber of walks: 41715\taverage walk length: 14.8131\ttraining time: 45.5476\n",
            "auc: 0.9349\n",
            "node dim: 10,\tnum_walks: 5,\twalk_length: 20\twindow_size: 3\tbuilding a DeepWalk model...\tnumber of walks: 41715\taverage walk length: 19.7358\ttraining time: 34.2049\n",
            "auc: 0.9273\n",
            "node dim: 10,\tnum_walks: 5,\twalk_length: 20\twindow_size: 5\tbuilding a DeepWalk model...\tnumber of walks: 41715\taverage walk length: 19.7358\ttraining time: 42.2681\n",
            "auc: 0.9331\n",
            "node dim: 10,\tnum_walks: 5,\twalk_length: 20\twindow_size: 10\tbuilding a DeepWalk model...\tnumber of walks: 41715\taverage walk length: 19.7358\ttraining time: 59.9149\n",
            "auc: 0.9378\n",
            "node dim: 10,\tnum_walks: 5,\twalk_length: 30\twindow_size: 3\tbuilding a DeepWalk model...\tnumber of walks: 41715\taverage walk length: 29.5781\ttraining time: 48.0166\n",
            "auc: 0.9303\n",
            "node dim: 10,\tnum_walks: 5,\twalk_length: 30\twindow_size: 5\tbuilding a DeepWalk model...\tnumber of walks: 41715\taverage walk length: 29.5781\ttraining time: 61.4322\n",
            "auc: 0.9344\n",
            "node dim: 10,\tnum_walks: 5,\twalk_length: 30\twindow_size: 10\tbuilding a DeepWalk model...\tnumber of walks: 41715\taverage walk length: 29.5781\ttraining time: 101.0187\n",
            "auc: 0.9384\n",
            "node dim: 10,\tnum_walks: 10,\twalk_length: 10\twindow_size: 3\tbuilding a DeepWalk model...\tnumber of walks: 83430\taverage walk length: 9.8905\ttraining time: 38.4514\n",
            "auc: 0.9285\n",
            "node dim: 10,\tnum_walks: 10,\twalk_length: 10\twindow_size: 5\tbuilding a DeepWalk model...\tnumber of walks: 83430\taverage walk length: 9.8905\ttraining time: 44.9301\n",
            "auc: 0.9332\n",
            "node dim: 10,\tnum_walks: 10,\twalk_length: 10\twindow_size: 10\tbuilding a DeepWalk model...\tnumber of walks: 83430\taverage walk length: 9.8905\ttraining time: 56.6651\n",
            "auc: 0.9361\n",
            "node dim: 10,\tnum_walks: 10,\twalk_length: 15\twindow_size: 3\tbuilding a DeepWalk model...\tnumber of walks: 83430\taverage walk length: 14.8142\ttraining time: 52.1210\n",
            "auc: 0.9313\n",
            "node dim: 10,\tnum_walks: 10,\twalk_length: 15\twindow_size: 5\tbuilding a DeepWalk model...\tnumber of walks: 83430\taverage walk length: 14.8142\ttraining time: 63.6438\n",
            "auc: 0.9348\n",
            "node dim: 10,\tnum_walks: 10,\twalk_length: 15\twindow_size: 10\tbuilding a DeepWalk model...\tnumber of walks: 83430\taverage walk length: 14.8142\ttraining time: 86.3490\n",
            "auc: 0.9388\n",
            "node dim: 10,\tnum_walks: 10,\twalk_length: 20\twindow_size: 3\tbuilding a DeepWalk model...\tnumber of walks: 83430\taverage walk length: 19.7383\ttraining time: 64.9091\n",
            "auc: 0.9322\n",
            "node dim: 10,\tnum_walks: 10,\twalk_length: 20\twindow_size: 5\tbuilding a DeepWalk model...\tnumber of walks: 83430\taverage walk length: 19.7383\ttraining time: 82.2595\n",
            "auc: 0.9362\n",
            "node dim: 10,\tnum_walks: 10,\twalk_length: 20\twindow_size: 10\tbuilding a DeepWalk model...\tnumber of walks: 83430\taverage walk length: 19.7383\ttraining time: 120.3195\n",
            "auc: 0.9390\n",
            "node dim: 10,\tnum_walks: 10,\twalk_length: 30\twindow_size: 3\tbuilding a DeepWalk model...\tnumber of walks: 83430\taverage walk length: 29.5814\ttraining time: 96.7256\n",
            "auc: 0.9322\n",
            "node dim: 10,\tnum_walks: 10,\twalk_length: 30\twindow_size: 5\tbuilding a DeepWalk model...\tnumber of walks: 83430\taverage walk length: 29.5814\ttraining time: 123.7306\n",
            "auc: 0.9356\n",
            "node dim: 10,\tnum_walks: 10,\twalk_length: 30\twindow_size: 10\tbuilding a DeepWalk model...\tnumber of walks: 83430\taverage walk length: 29.5814\ttraining time: 184.4917\n",
            "auc: 0.9375\n",
            "node dim: 10,\tnum_walks: 15,\twalk_length: 10\twindow_size: 3\tbuilding a DeepWalk model...\tnumber of walks: 125145\taverage walk length: 9.8900\ttraining time: 58.7407\n",
            "auc: 0.9316\n",
            "node dim: 10,\tnum_walks: 15,\twalk_length: 10\twindow_size: 5\tbuilding a DeepWalk model...\tnumber of walks: 125145\taverage walk length: 9.8900\ttraining time: 68.5556\n",
            "auc: 0.9353\n",
            "node dim: 10,\tnum_walks: 15,\twalk_length: 10\twindow_size: 10\tbuilding a DeepWalk model...\tnumber of walks: 125145\taverage walk length: 9.8900\ttraining time: 83.5655\n",
            "auc: 0.9376\n",
            "node dim: 10,\tnum_walks: 15,\twalk_length: 15\twindow_size: 3\tbuilding a DeepWalk model...\tnumber of walks: 125145\taverage walk length: 14.8146\ttraining time: 81.4759\n",
            "auc: 0.9328\n",
            "node dim: 10,\tnum_walks: 15,\twalk_length: 15\twindow_size: 5\tbuilding a DeepWalk model...\tnumber of walks: 125145\taverage walk length: 14.8146\ttraining time: 100.1451\n",
            "auc: 0.9356\n",
            "node dim: 10,\tnum_walks: 15,\twalk_length: 15\twindow_size: 10\tbuilding a DeepWalk model...\tnumber of walks: 125145\taverage walk length: 14.8146\ttraining time: 132.8451\n",
            "auc: 0.9383\n",
            "node dim: 10,\tnum_walks: 15,\twalk_length: 20\twindow_size: 3\tbuilding a DeepWalk model...\tnumber of walks: 125145\taverage walk length: 19.7377\ttraining time: 105.8972\n",
            "auc: 0.9324\n",
            "node dim: 10,\tnum_walks: 15,\twalk_length: 20\twindow_size: 5\tbuilding a DeepWalk model...\tnumber of walks: 125145\taverage walk length: 19.7377\ttraining time: 130.8260\n",
            "auc: 0.9357\n",
            "node dim: 10,\tnum_walks: 15,\twalk_length: 20\twindow_size: 10\tbuilding a DeepWalk model...\tnumber of walks: 125145\taverage walk length: 19.7377\ttraining time: 181.8104\n",
            "auc: 0.9385\n",
            "node dim: 10,\tnum_walks: 15,\twalk_length: 30\twindow_size: 3\tbuilding a DeepWalk model...\tnumber of walks: 125145\taverage walk length: 29.5818\ttraining time: 149.2382\n",
            "auc: 0.9318\n",
            "node dim: 10,\tnum_walks: 15,\twalk_length: 30\twindow_size: 5\tbuilding a DeepWalk model...\tnumber of walks: 125145\taverage walk length: 29.5818\ttraining time: 186.8794\n",
            "auc: 0.9349\n",
            "node dim: 10,\tnum_walks: 15,\twalk_length: 30\twindow_size: 10\tbuilding a DeepWalk model...\tnumber of walks: 125145\taverage walk length: 29.5818\ttraining time: 276.7542\n",
            "auc: 0.9369\n",
            "node dim: 10,\tnum_walks: 20,\twalk_length: 10\twindow_size: 3\tbuilding a DeepWalk model...\tnumber of walks: 166860\taverage walk length: 9.8897\ttraining time: 78.9413\n",
            "auc: 0.9329\n",
            "node dim: 10,\tnum_walks: 20,\twalk_length: 10\twindow_size: 5\tbuilding a DeepWalk model...\tnumber of walks: 166860\taverage walk length: 9.8897\ttraining time: 91.2954\n",
            "auc: 0.9357\n",
            "node dim: 10,\tnum_walks: 20,\twalk_length: 10\twindow_size: 10\tbuilding a DeepWalk model...\tnumber of walks: 166860\taverage walk length: 9.8897\ttraining time: 110.8922\n",
            "auc: 0.9376\n",
            "node dim: 10,\tnum_walks: 20,\twalk_length: 15\twindow_size: 3\tbuilding a DeepWalk model...\tnumber of walks: 166860\taverage walk length: 14.8158\ttraining time: 110.6873\n",
            "auc: 0.9328\n",
            "node dim: 10,\tnum_walks: 20,\twalk_length: 15\twindow_size: 5\tbuilding a DeepWalk model...\tnumber of walks: 166860\taverage walk length: 14.8158\ttraining time: 130.3696\n",
            "auc: 0.9350\n",
            "node dim: 10,\tnum_walks: 20,\twalk_length: 15\twindow_size: 10\tbuilding a DeepWalk model...\tnumber of walks: 166860\taverage walk length: 14.8158\ttraining time: 177.4123\n",
            "auc: 0.9377\n",
            "node dim: 10,\tnum_walks: 20,\twalk_length: 20\twindow_size: 3\tbuilding a DeepWalk model...\tnumber of walks: 166860\taverage walk length: 19.7382\ttraining time: 127.6185\n",
            "auc: 0.9319\n",
            "node dim: 10,\tnum_walks: 20,\twalk_length: 20\twindow_size: 5\tbuilding a DeepWalk model...\tnumber of walks: 166860\taverage walk length: 19.7382\ttraining time: 160.2592\n",
            "auc: 0.9355\n",
            "node dim: 10,\tnum_walks: 20,\twalk_length: 20\twindow_size: 10\tbuilding a DeepWalk model...\tnumber of walks: 166860\taverage walk length: 19.7382\ttraining time: 231.5038\n",
            "auc: 0.9381\n",
            "node dim: 10,\tnum_walks: 20,\twalk_length: 30\twindow_size: 3\tbuilding a DeepWalk model...\tnumber of walks: 166860\taverage walk length: 29.5783\ttraining time: 179.7390\n",
            "auc: 0.9306\n",
            "node dim: 10,\tnum_walks: 20,\twalk_length: 30\twindow_size: 5\tbuilding a DeepWalk model...\tnumber of walks: 166860\taverage walk length: 29.5783\ttraining time: 236.2371\n",
            "auc: 0.9335\n",
            "node dim: 10,\tnum_walks: 20,\twalk_length: 30\twindow_size: 10\tbuilding a DeepWalk model...\tnumber of walks: 166860\taverage walk length: 29.5783\ttraining time: 360.1412\n",
            "auc: 0.9355\n"
          ]
        }
      ],
      "source": [
        "np.random.seed(0)\n",
        "\n",
        "node_dim = 10\n",
        "num_walks_list = [5, 10, 15, 20]\n",
        "walk_length_list = [10, 15, 20, 30]\n",
        "windowsize_list = [3, 5, 10]\n",
        "\n",
        "deepwalk_auc_scores = dict()\n",
        "for num_walks in num_walks_list:\n",
        "    for walk_length in walk_length_list:\n",
        "        for wsize in windowsize_list:\n",
        "            print(\"node dim: %d,\\tnum_walks: %d,\\twalk_length: %d\\twindow_size: %d\" % (node_dim, num_walks, walk_length, wsize), end=\"\\t\")\n",
        "            model = build_deepwalk(graph, alias_nodes, \n",
        "                          node_dim=node_dim, num_walks=num_walks, walk_length=walk_length, window_size=wsize)\n",
        "            deepwalk_auc_scores[(node_dim, num_walks, walk_length, wsize)] = get_auc_score(model, valid_edges, false_edges)\n",
        "            print(\"auc: %.4f\" % (deepwalk_auc_scores[(node_dim, num_walks, walk_length, wsize)]))"
      ]
    },
    {
      "cell_type": "markdown",
      "metadata": {
        "id": "eU1S_dp3FTem"
      },
      "source": [
        "Example of using Heatmap to viualize the result for each value of window_size."
      ]
    },
    {
      "cell_type": "code",
      "execution_count": null,
      "metadata": {
        "id": "W_z-OlDQFTen",
        "colab": {
          "base_uri": "https://localhost:8080/",
          "height": 296
        },
        "outputId": "4434df5e-398b-4f94-d503-06d3bd436c9c"
      },
      "outputs": [
        {
          "output_type": "display_data",
          "data": {
            "text/plain": [
              "<Figure size 432x288 with 2 Axes>"
            ],
            "image/png": "[encoded data removed]"
          },
          "metadata": {
            "needs_background": "light"
          }
        }
      ],
      "source": [
        "import seaborn as sns\n",
        "\n",
        "node_dim = 10\n",
        "deepwalk_auc_as_np = np.array([[deepwalk_auc_scores[(node_dim, num_walks, walk_length, 3)] for walk_length in walk_length_list] for num_walks in num_walks_list])\n",
        "\n",
        "ax_deepwalk = sns.heatmap(deepwalk_auc_as_np, annot=True, fmt='.4g', linewidth=0.5, \n",
        "                            xticklabels=walk_length_list, yticklabels=num_walks_list)\n",
        "ax_deepwalk.set_xlabel('walk_length', fontsize=10)\n",
        "ax_deepwalk.set_ylabel('num_walks', fontsize=10)\n",
        "ax_deepwalk.set_title(\"Validation AUC for various num_walks/walk_length Deepwalk for window_size=3\")\n",
        "plt.show()"
      ]
    },
    {
      "cell_type": "code",
      "source": [
        "deepwalk_auc_as_np = np.array([[deepwalk_auc_scores[(node_dim, num_walks, walk_length, 5)] for walk_length in walk_length_list] for num_walks in num_walks_list])\n",
        "\n",
        "ax_deepwalk = sns.heatmap(deepwalk_auc_as_np, annot=True, fmt='.4g', linewidth=0.5, \n",
        "                            xticklabels=walk_length_list, yticklabels=num_walks_list)\n",
        "ax_deepwalk.set_xlabel('walk_length', fontsize=10)\n",
        "ax_deepwalk.set_ylabel('num_walks', fontsize=10)\n",
        "ax_deepwalk.set_title(\"Validation AUC for various num_walks/walk_length Deepwalk for window_size=5\")\n",
        "plt.show()"
      ],
      "metadata": {
        "id": "REeiWC_K30c8",
        "colab": {
          "base_uri": "https://localhost:8080/",
          "height": 296
        },
        "outputId": "608317e5-da40-4a23-96ac-6dec67bf902c"
      },
      "execution_count": null,
      "outputs": [
        {
          "output_type": "display_data",
          "data": {
            "text/plain": [
              "<Figure size 432x288 with 2 Axes>"
            ],
            "image/png": "[encoded data removed]"
          },
          "metadata": {
            "needs_background": "light"
          }
        }
      ]
    },
    {
      "cell_type": "code",
      "source": [
        "deepwalk_auc_as_np = np.array([[deepwalk_auc_scores[(node_dim, num_walks, walk_length, 10)] for walk_length in walk_length_list] for num_walks in num_walks_list])\n",
        "\n",
        "ax_deepwalk = sns.heatmap(deepwalk_auc_as_np, annot=True, fmt='.4g', linewidth=0.5, \n",
        "                            xticklabels=walk_length_list, yticklabels=num_walks_list)\n",
        "ax_deepwalk.set_xlabel('walk_length', fontsize=10)\n",
        "ax_deepwalk.set_ylabel('num_walks', fontsize=10)\n",
        "ax_deepwalk.set_title(\"Validation AUC for various num_walks/walk_length Deepwalk for window_size=10\")\n",
        "plt.show()"
      ],
      "metadata": {
        "id": "IBLeaIoj1LSA",
        "colab": {
          "base_uri": "https://localhost:8080/",
          "height": 296
        },
        "outputId": "310f9c7b-fdb2-4c9c-ed4c-2821b5095c1f"
      },
      "execution_count": null,
      "outputs": [
        {
          "output_type": "display_data",
          "data": {
            "text/plain": [
              "<Figure size 432x288 with 2 Axes>"
            ],
            "image/png": "[encoded data removed]"
          },
          "metadata": {
            "needs_background": "light"
          }
        }
      ]
    },
    {
      "cell_type": "code",
      "execution_count": null,
      "metadata": {
        "id": "_SAQhkhNFTel",
        "colab": {
          "base_uri": "https://localhost:8080/"
        },
        "outputId": "d70a7a44-8de4-4e64-d5aa-627ceaffff66"
      },
      "outputs": [
        {
          "output_type": "stream",
          "name": "stdout",
          "text": [
            "node dim: 10,\tnum_walks: 10,\twalk_length: 20,\tp: 0.30,\tq: 0.30\tbuilding a node2vec model...\tnumber of walks: 83430\taverage walk length: 19.9749\ttraining time: 123.9526\n",
            "auc: 0.9377\n",
            "node dim: 10,\tnum_walks: 10,\twalk_length: 20,\tp: 0.30,\tq: 0.60\tbuilding a node2vec model...\tnumber of walks: 83430\taverage walk length: 19.9804\ttraining time: 124.3076\n",
            "auc: 0.9361\n",
            "node dim: 10,\tnum_walks: 10,\twalk_length: 20,\tp: 0.30,\tq: 0.90\tbuilding a node2vec model...\tnumber of walks: 83430\taverage walk length: 19.9825\ttraining time: 123.4955\n",
            "auc: 0.9367\n",
            "node dim: 10,\tnum_walks: 10,\twalk_length: 20,\tp: 0.30,\tq: 1.20\tbuilding a node2vec model...\tnumber of walks: 83430\taverage walk length: 19.9835\ttraining time: 122.7678\n",
            "auc: 0.9362\n",
            "node dim: 10,\tnum_walks: 10,\twalk_length: 20,\tp: 0.30,\tq: 1.60\tbuilding a node2vec model...\tnumber of walks: 83430\taverage walk length: 19.9840\ttraining time: 122.7858\n",
            "auc: 0.9360\n",
            "node dim: 10,\tnum_walks: 10,\twalk_length: 20,\tp: 0.30,\tq: 2.00\tbuilding a node2vec model...\tnumber of walks: 83430\taverage walk length: 19.9878\ttraining time: 124.1402\n",
            "auc: 0.9355\n",
            "node dim: 10,\tnum_walks: 10,\twalk_length: 20,\tp: 0.60,\tq: 0.30\tbuilding a node2vec model...\tnumber of walks: 83430\taverage walk length: 19.9656\ttraining time: 124.7552\n",
            "auc: 0.9383\n",
            "node dim: 10,\tnum_walks: 10,\twalk_length: 20,\tp: 0.60,\tq: 0.60\tbuilding a node2vec model...\tnumber of walks: 83430\taverage walk length: 19.9784\ttraining time: 124.7552\n",
            "auc: 0.9383\n",
            "node dim: 10,\tnum_walks: 10,\twalk_length: 20,\tp: 0.60,\tq: 0.60\tbuilding a node2vec model...\tnumber of walks: 83430\taverage walk length: 19.9784\ttraining time: 125.3528\n",
            "auc: 0.9369\n",
            "node dim: 10,\tnum_walks: 10,\twalk_length: 20,\tp: 0.60,\tq: 0.90\tbuilding a node2vec model...\tnumber of walks: 83430\taverage walk length: 19.9831\ttraining time: 124.2113\n",
            "auc: 0.9372\n",
            "node dim: 10,\tnum_walks: 10,\twalk_length: 20,\tp: 0.60,\tq: 1.20\tbuilding a node2vec model...\tnumber of walks: 83430\taverage walk length: 19.9834\ttraining time: 123.3644\n",
            "auc: 0.9360\n",
            "node dim: 10,\tnum_walks: 10,\twalk_length: 20,\tp: 0.60,\tq: 1.60\tbuilding a node2vec model...\tnumber of walks: 83430\taverage walk length: 19.9811\ttraining time: 122.3797\n",
            "auc: 0.9364\n",
            "node dim: 10,\tnum_walks: 10,\twalk_length: 20,\tp: 0.60,\tq: 2.00\tbuilding a node2vec model...\tnumber of walks: 83430\taverage walk length: 19.9851\ttraining time: 122.1695\n",
            "auc: 0.9362\n",
            "node dim: 10,\tnum_walks: 10,\twalk_length: 20,\tp: 0.90,\tq: 0.30\tbuilding a node2vec model...\tnumber of walks: 83430\taverage walk length: 19.9560\ttraining time: 124.1818\n",
            "auc: 0.9375\n",
            "node dim: 10,\tnum_walks: 10,\twalk_length: 20,\tp: 0.90,\tq: 0.60\tbuilding a node2vec model...\tnumber of walks: 83430\taverage walk length: 19.9733\ttraining time: 123.3575\n",
            "auc: 0.9387\n",
            "node dim: 10,\tnum_walks: 10,\twalk_length: 20,\tp: 0.90,\tq: 0.90\tbuilding a node2vec model...\tnumber of walks: 83430\taverage walk length: 19.9777\ttraining time: 124.9953\n",
            "auc: 0.9366\n",
            "node dim: 10,\tnum_walks: 10,\twalk_length: 20,\tp: 0.90,\tq: 1.20\tbuilding a node2vec model...\tnumber of walks: 83430\taverage walk length: 19.9807\ttraining time: 125.5022\n",
            "auc: 0.9367\n",
            "node dim: 10,\tnum_walks: 10,\twalk_length: 20,\tp: 0.90,\tq: 1.60\tbuilding a node2vec model...\tnumber of walks: 83430\taverage walk length: 19.9816\ttraining time: 125.3562\n",
            "auc: 0.9370\n",
            "node dim: 10,\tnum_walks: 10,\twalk_length: 20,\tp: 0.90,\tq: 2.00\tbuilding a node2vec model...\tnumber of walks: 83430\taverage walk length: 19.9822\ttraining time: 124.4389\n",
            "auc: 0.9364\n",
            "node dim: 10,\tnum_walks: 10,\twalk_length: 20,\tp: 1.20,\tq: 0.30\tbuilding a node2vec model...\tnumber of walks: 83430\taverage walk length: 19.9527\ttraining time: 124.7129\n",
            "auc: 0.9390\n",
            "node dim: 10,\tnum_walks: 10,\twalk_length: 20,\tp: 1.20,\tq: 0.60\tbuilding a node2vec model...\tnumber of walks: 83430\taverage walk length: 19.9692\ttraining time: 124.9198\n",
            "auc: 0.9378\n",
            "node dim: 10,\tnum_walks: 10,\twalk_length: 20,\tp: 1.20,\tq: 0.90\tbuilding a node2vec model...\tnumber of walks: 83430\taverage walk length: 19.9738\ttraining time: 126.1225\n",
            "auc: 0.9366\n",
            "node dim: 10,\tnum_walks: 10,\twalk_length: 20,\tp: 1.20,\tq: 1.20\tbuilding a node2vec model...\tnumber of walks: 83430\taverage walk length: 19.9812\ttraining time: 125.8045\n",
            "auc: 0.9356\n",
            "node dim: 10,\tnum_walks: 10,\twalk_length: 20,\tp: 1.20,\tq: 1.60\tbuilding a node2vec model...\tnumber of walks: 83430\taverage walk length: 19.9799\ttraining time: 125.1411\n",
            "auc: 0.9370\n",
            "node dim: 10,\tnum_walks: 10,\twalk_length: 20,\tp: 1.20,\tq: 2.00\tbuilding a node2vec model...\tnumber of walks: 83430\taverage walk length: 19.9821\ttraining time: 125.1142\n",
            "auc: 0.9365\n",
            "node dim: 10,\tnum_walks: 10,\twalk_length: 20,\tp: 1.60,\tq: 0.30\tbuilding a node2vec model...\tnumber of walks: 83430\taverage walk length: 19.9435\ttraining time: 126.9232\n",
            "auc: 0.9378\n",
            "node dim: 10,\tnum_walks: 10,\twalk_length: 20,\tp: 1.60,\tq: 0.60\tbuilding a node2vec model...\tnumber of walks: 83430\taverage walk length: 19.9595\ttraining time: 126.1512\n",
            "auc: 0.9381\n",
            "node dim: 10,\tnum_walks: 10,\twalk_length: 20,\tp: 1.60,\tq: 0.90\tbuilding a node2vec model...\tnumber of walks: 83430\taverage walk length: 19.9715\ttraining time: 126.1763\n",
            "auc: 0.9370\n",
            "node dim: 10,\tnum_walks: 10,\twalk_length: 20,\tp: 1.60,\tq: 1.20\tbuilding a node2vec model...\tnumber of walks: 83430\taverage walk length: 19.9764\ttraining time: 125.1683\n",
            "auc: 0.9368\n",
            "node dim: 10,\tnum_walks: 10,\twalk_length: 20,\tp: 1.60,\tq: 1.60\tbuilding a node2vec model...\tnumber of walks: 83430\taverage walk length: 19.9784\ttraining time: 125.5640\n",
            "auc: 0.9363\n",
            "node dim: 10,\tnum_walks: 10,\twalk_length: 20,\tp: 1.60,\tq: 2.00\tbuilding a node2vec model...\tnumber of walks: 83430\taverage walk length: 19.9787\ttraining time: 124.4508\n",
            "auc: 0.9362\n",
            "node dim: 10,\tnum_walks: 10,\twalk_length: 20,\tp: 2.00,\tq: 0.30\tbuilding a node2vec model...\tnumber of walks: 83430\taverage walk length: 19.9314\ttraining time: 126.1693\n",
            "auc: 0.9380\n",
            "node dim: 10,\tnum_walks: 10,\twalk_length: 20,\tp: 2.00,\tq: 0.60\tbuilding a node2vec model...\tnumber of walks: 83430\taverage walk length: 19.9532\ttraining time: 126.6132\n",
            "auc: 0.9388\n",
            "node dim: 10,\tnum_walks: 10,\twalk_length: 20,\tp: 2.00,\tq: 0.90\tbuilding a node2vec model...\tnumber of walks: 83430\taverage walk length: 19.9677\ttraining time: 125.4775\n",
            "auc: 0.9383\n",
            "node dim: 10,\tnum_walks: 10,\twalk_length: 20,\tp: 2.00,\tq: 1.20\tbuilding a node2vec model...\tnumber of walks: 83430\taverage walk length: 19.9734\ttraining time: 125.7300\n",
            "auc: 0.9374\n",
            "node dim: 10,\tnum_walks: 10,\twalk_length: 20,\tp: 2.00,\tq: 1.60\tbuilding a node2vec model...\tnumber of walks: 83430\taverage walk length: 19.9761\ttraining time: 125.8983\n",
            "auc: 0.9367\n",
            "node dim: 10,\tnum_walks: 10,\twalk_length: 20,\tp: 2.00,\tq: 2.00\tbuilding a node2vec model...\tnumber of walks: 83430\taverage walk length: 19.9762\ttraining time: 125.1283\n",
            "auc: 0.9370\n"
          ]
        }
      ],
      "source": [
        "np.random.seed(0)\n",
        "\n",
        "node_dim = 10\n",
        "# choose num_walks, walk_length and windowsize hyperparameter according to hyperparameter tuning result for DeepWalk\n",
        "num_walks = 10\n",
        "walk_length = 20\n",
        "windowsize = 10\n",
        "p_list = [0.3, 0.6, 0.9, 1.2, 1.6, 2]\n",
        "q_list = [0.3, 0.6, 0.9, 1.2, 1.6, 2]\n",
        "node2vec_auc_scores = dict()\n",
        "\n",
        "for p in p_list:\n",
        "    for q in q_list:\n",
        "        print(\"node dim: %d,\\tnum_walks: %d,\\twalk_length: %d,\\tp: %.2f,\\tq: %.2f\" % (node_dim, num_walks, walk_length, p, q), end=\"\\t\")\n",
        "        alias_nodes, alias_edges = preprocess_transition_probs(graph, p=p, q=q)\n",
        "        model = build_node2vec(graph, alias_nodes, alias_edges, \n",
        "                              node_dim=node_dim, num_walks=num_walks, walk_length=walk_length, window_size=windowsize)\n",
        "        node2vec_auc_scores[(node_dim, num_walks, walk_length, p, q)] = get_auc_score(model, valid_edges, false_edges)\n",
        "        print(\"auc: %.4f\" % (node2vec_auc_scores[(node_dim, num_walks, walk_length, p, q)]))"
      ]
    },
    {
      "cell_type": "code",
      "source": [
        "node2vec_auc_as_np = np.array([[node2vec_auc_scores[(node_dim, num_walks, walk_length, p_val, q_val)] for p_val in p_list] for q_val in q_list])\n",
        "\n",
        "ax_node2vec = sns.heatmap(node2vec_auc_as_np, annot=True, fmt='.4g', linewidth=0.5, \n",
        "                            xticklabels=p_list, yticklabels=q_list)\n",
        "ax_node2vec.set_xlabel('p', fontsize=10)\n",
        "ax_node2vec.set_ylabel('q', fontsize=10)\n",
        "ax_node2vec.set_title(\"Validation AUC for various p/q for Node2Vec\")\n",
        "plt.show()"
      ],
      "metadata": {
        "id": "pGHS_Q3K4FWr",
        "colab": {
          "base_uri": "https://localhost:8080/",
          "height": 295
        },
        "outputId": "b7f8bb3a-d65c-46d5-8089-b9e89d0f1525"
      },
      "execution_count": null,
      "outputs": [
        {
          "output_type": "display_data",
          "data": {
            "text/plain": [
              "<Figure size 432x288 with 2 Axes>"
            ],
            "image/png": "[encoded data removed]"
          },
          "metadata": {
            "needs_background": "light"
          }
        }
      ]
    },
    {
      "cell_type": "code",
      "source": [
        "# given a set of true and false edges, gets a given model to output prediction for each edge in form of probability \n",
        "# as to whether that link exists or not\n",
        "def get_pred_score(model, true_edges, false_edges):\n",
        "   \n",
        "    y_score = list()\n",
        "    for e in true_edges:\n",
        "        y_score.append(get_cosine_sim(model, e[0], e[1]))\n",
        "    for e in false_edges:\n",
        "        y_score.append(get_cosine_sim(model, e[0], e[1]))\n",
        "    \n",
        "    return y_score"
      ],
      "metadata": {
        "id": "6fQSOlAjMv1W"
      },
      "execution_count": null,
      "outputs": []
    },
    {
      "cell_type": "markdown",
      "metadata": {
        "id": "Xq7tWmN_FTer"
      },
      "source": [
        "You can build model with the best parameters you find and save the prediction here."
      ]
    },
    {
      "cell_type": "code",
      "execution_count": null,
      "metadata": {
        "id": "0lLCO0dxFTe6",
        "colab": {
          "base_uri": "https://localhost:8080/"
        },
        "outputId": "c2e09976-a691-4df2-ff3f-c93984bf0f2b"
      },
      "outputs": [
        {
          "output_type": "stream",
          "name": "stdout",
          "text": [
            "building a DeepWalk model...\tnumber of walks: 83430\taverage walk length: 19.7383\ttraining time: 126.7766\n",
            "DeepWalk 1 auc score: 0.9395\n",
            "building a DeepWalk model...\tnumber of walks: 83430\taverage walk length: 19.7383\ttraining time: 123.4926\n",
            "DeepWalk 2 auc score: 0.9396\n"
          ]
        }
      ],
      "source": [
        "final_node_dim = 10\n",
        "final_num_walks = 10\n",
        "final_walk_length = 20\n",
        "final_p = 1.0\n",
        "final_q = 1.0\n",
        "final_wsize = 10\n",
        "\n",
        "# build an ensemble model, use multiple DeepWalks and Node2Vecs to reduce variance of predictions\n",
        "pred_scores = []\n",
        "alias_nodes, alias_edges = preprocess_transition_probs(graph, p=final_p, q=final_q) # final_p and final_q are unused since DeepWalk is just 1st order random walk\n",
        "dw1_model = build_deepwalk(graph, alias_nodes, \n",
        "                           node_dim=final_node_dim, num_walks=final_num_walks, walk_length=final_walk_length, window_size=final_wsize)\n",
        "dw1_auc = get_auc_score(dw1_model, valid_edges, false_edges)\n",
        "print(\"DeepWalk 1 auc score: %.4f\" %(dw1_auc))\n",
        "dw1_pred = get_pred_score(dw1_model, valid_edges, false_edges) \n",
        "pred_scores.append(dw1_pred)\n",
        "\n",
        "dw2_model = build_deepwalk(graph, alias_nodes, \n",
        "                           node_dim=final_node_dim, num_walks=final_num_walks, walk_length=final_walk_length, window_size=final_wsize)\n",
        "dw2_auc = get_auc_score(dw2_model, valid_edges, false_edges)\n",
        "print(\"DeepWalk 2 auc score: %.4f\" %(dw2_auc))\n",
        "dw2_pred = get_pred_score(dw2_model, valid_edges, false_edges) \n",
        "pred_scores.append(dw2_pred)"
      ]
    },
    {
      "cell_type": "code",
      "source": [
        "final_node_dim = 10\n",
        "final_num_walks = 10\n",
        "final_walk_length = 20\n",
        "final_p = 1.2\n",
        "final_q = 0.3\n",
        "final_wsize = 10\n",
        "\n",
        "alias_nodes, alias_edges = preprocess_transition_probs(graph, p=final_p, q=final_q)\n",
        "nv1_model = build_node2vec(graph, alias_nodes, alias_edges, \n",
        "                           node_dim=final_node_dim, num_walks=final_num_walks, walk_length=final_walk_length, window_size=final_wsize)\n",
        "nv1_auc = get_auc_score(nv1_model, valid_edges, false_edges)\n",
        "print(\"Node2Vec 1 auc score: %.4f\" %(nv1_auc))\n",
        "nv1_pred = get_pred_score(nv1_model, valid_edges, false_edges) \n",
        "pred_scores.append(nv1_pred)\n",
        "\n",
        "nv2_model = build_node2vec(graph, alias_nodes, alias_edges, \n",
        "                           node_dim=final_node_dim, num_walks=final_num_walks, walk_length=final_walk_length, window_size=final_wsize)\n",
        "nv2_auc = get_auc_score(nv2_model, valid_edges, false_edges)\n",
        "print(\"Node2Vec 2 auc score: %.4f\" %(nv2_auc))\n",
        "nv2_pred = get_pred_score(nv2_model, valid_edges, false_edges) \n",
        "pred_scores.append(nv2_pred)"
      ],
      "metadata": {
        "id": "H3lxYFscKWoN",
        "colab": {
          "base_uri": "https://localhost:8080/"
        },
        "outputId": "fd1e7f57-14c8-42e4-e312-8848fcc755e7"
      },
      "execution_count": null,
      "outputs": [
        {
          "output_type": "stream",
          "name": "stdout",
          "text": [
            "building a node2vec model...\tnumber of walks: 83430\taverage walk length: 19.9527\ttraining time: 128.1077\n",
            "Node2Vec 1 auc score: 0.9385\n",
            "building a node2vec model...\tnumber of walks: 83430\taverage walk length: 19.9527\ttraining time: 127.4006\n",
            "Node2Vec 2 auc score: 0.9387\n"
          ]
        }
      ]
    },
    {
      "cell_type": "code",
      "source": [
        "test_scores = []\n",
        "test1_scores = [get_cosine_sim(dw1_model, src, dst) for src, dst in test_edges]\n",
        "test2_scores = [get_cosine_sim(dw2_model, src, dst) for src, dst in test_edges]\n",
        "\n",
        "test3_scores = [get_cosine_sim(nv1_model, src, dst) for src, dst in test_edges]\n",
        "test4_scores = [get_cosine_sim(nv2_model, src, dst) for src, dst in test_edges]\n",
        "\n",
        "test_scores.append(test1_scores)\n",
        "test_scores.append(test2_scores)\n",
        "test_scores.append(test3_scores)\n",
        "test_scores.append(test4_scores)\n",
        "\n",
        "scores = np.array(test_scores)\n",
        "scores = list(np.mean(scores, axis = 0))\n",
        "\n",
        "write_pred(\"./pred.csv\", test_edges, scores)"
      ],
      "metadata": {
        "id": "GVemiBoxKYLQ"
      },
      "execution_count": null,
      "outputs": []
    },
    {
      "cell_type": "markdown",
      "metadata": {
        "id": "xuETflZlFTe8"
      },
      "source": [
        "And you can have a try if you set p=q=1, the two models will return the same results."
      ]
    }
  ],
  "metadata": {
    "kernelspec": {
      "display_name": "Python 3",
      "language": "python",
      "name": "python3"
    },
    "language_info": {
      "codemirror_mode": {
        "name": "ipython",
        "version": 3
      },
      "file_extension": ".py",
      "mimetype": "text/x-python",
      "name": "python",
      "nbconvert_exporter": "python",
      "pygments_lexer": "ipython3",
      "version": "3.8.8"
    },
    "colab": {
      "name": "Jasper_Project 2 Social Network Mining.ipynb",
      "provenance": [],
      "collapsed_sections": []
    }
  },
  "nbformat": 4,
  "nbformat_minor": 0
}